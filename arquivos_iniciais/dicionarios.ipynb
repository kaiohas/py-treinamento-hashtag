{
 "cells": [
  {
   "cell_type": "markdown",
   "metadata": {},
   "source": [
    "### Exercício 1\n",
    "Crie um sistema de consulta de preços\n",
    "Seu sistema deve:\n",
    "- Pedir para o usuário o nome de um produto\n",
    "- Caso o produto exista na lista de produtos, o programa deve retornar o preço do produto como resposta\n",
    "       - Ex: O produto celular custa R$1500\n",
    "- Caso o produto não exista na lista de produtos, o programa deve printar uma mensagem para o usuário tentar novamente\n"
   ]
  },
  {
   "cell_type": "code",
   "execution_count": 2,
   "metadata": {},
   "outputs": [],
   "source": [
    "precos = {\"celular\": 1500, \"camera\": 1000, \"fone de ouvido\": 800, \"monitor\": 2000}\n"
   ]
  },
  {
   "cell_type": "code",
   "execution_count": 4,
   "metadata": {},
   "outputs": [
    {
     "name": "stdout",
     "output_type": "stream",
     "text": [
      "Tente novamente\n",
      "O produto camera custa 1000\n"
     ]
    }
   ],
   "source": [
    "produto = input('Digite o produto')\n",
    "\n",
    "while produto not in precos:\n",
    "    print('Tente novamente')\n",
    "    produto = input('Digite o produto')\n",
    "print('O produto {} custa {}'.format(produto,precos[produto]))"
   ]
  },
  {
   "cell_type": "markdown",
   "metadata": {},
   "source": [
    "\n",
    "### Exercício 2\n",
    "Agora edite o programa anterior para fazer com que, caso não exista o produto, o programa pergunte se o usuário quer cadastrar o produto\n",
    "<br>Se ele responder sim, o programa deve pedir o nome do produto e o preco do produto e cadastrar no dicionário de preços\n",
    "<br>Em seguida do cadastro bem sucedido, o programa deve printar o dicionário de precos atualizado\n"
   ]
  },
  {
   "cell_type": "code",
   "execution_count": 5,
   "metadata": {},
   "outputs": [
    {
     "name": "stdout",
     "output_type": "stream",
     "text": [
      "{'celular': 1500, 'camera': 1000, 'fone de ouvido': 800, 'monitor': 2000, 'carrinho': 1000}\n",
      "O produto carrinho custa 1000\n"
     ]
    }
   ],
   "source": [
    "produto = input('Digite o produto')\n",
    "\n",
    "while produto not in precos:\n",
    "    valido = input('Deseja cadastrar o produto? [s/n]')\n",
    "    if valido == 's':\n",
    "        produto = input('Digite o produto')\n",
    "        valor = int(input('Digite o valor'))\n",
    "        precos[produto] = valor\n",
    "        print(precos)\n",
    "    \n",
    "print('O produto {} custa {}'.format(produto,precos[produto]))"
   ]
  },
  {
   "cell_type": "markdown",
   "metadata": {},
   "source": [
    "### Exercício 3\n",
    "Dada a lista de preços de produtos, uma loja resolveu fazer um reajuste nos preços dos produtos. \n",
    "calcule o novo valor dos produtos com base nas seguintes regras:\n",
    "- Preços até 1.000 vão ter um reajuste de 10% (ou seja, o novo preço será 110% do preço atual)\n",
    "- Preços até maiores que 1.000 até 2.000 vão ter reajuste de 15%\n",
    "- Preços acima de 2.000 vão ter reajuste de 20%"
   ]
  },
  {
   "cell_type": "code",
   "execution_count": 9,
   "metadata": {},
   "outputs": [
    {
     "name": "stdout",
     "output_type": "stream",
     "text": [
      "produto celular foi de 1500 para 1725.00 reais\n",
      "produto camera foi de 1000 para 1100.00 reais\n",
      "produto fone de ouvido foi de 800 para 880.00 reais\n",
      "produto monitor foi de 3000 para 3600.00 reais\n"
     ]
    }
   ],
   "source": [
    "precos = {\"celular\": 1500, \"camera\": 1000, \"fone de ouvido\": 800, \"monitor\": 3000}\n",
    "\n",
    "for prod, qtd in precos.items():\n",
    "    if qtd > 2000:\n",
    "        precos[prod] = qtd*1.2\n",
    "    elif qtd > 1000:\n",
    "        precos[prod] = qtd*1.15\n",
    "    else:\n",
    "        precos[prod] = qtd*1.1\n",
    "    print('produto {} foi de {} para {:.2f} reais'.format(prod,qtd,precos[prod]))"
   ]
  },
  {
   "cell_type": "markdown",
   "metadata": {},
   "source": [
    "### Exercício 4\n",
    " - Edite o programa antigo para ter os 2 dicionários, o de preços originais e o de novos preços\n",
    " - Em seguida calcule o valor total de reajuste em R$ que teve entre a lista de produtos original e a lista final\n"
   ]
  },
  {
   "cell_type": "code",
   "execution_count": 14,
   "metadata": {},
   "outputs": [
    {
     "name": "stdout",
     "output_type": "stream",
     "text": [
      "produto celular foi de 1500 para 1725.00 reais\n",
      "produto camera foi de 1000 para 1100.00 reais\n",
      "produto fone de ouvido foi de 800 para 880.00 reais\n",
      "produto monitor foi de 3000 para 3600.00 reais\n",
      "O reajuste foi de 1005.0\n"
     ]
    }
   ],
   "source": [
    "precos = {\"celular\": 1500, \"camera\": 1000, \"fone de ouvido\": 800, \"monitor\": 3000}\n",
    "tt_original=0\n",
    "tt2 = 0\n",
    "for prod, qtd in precos.items():\n",
    "    tt_original +=qtd\n",
    "    if qtd > 2000:\n",
    "        precos[prod] = qtd*1.2\n",
    "    elif qtd > 1000:\n",
    "        precos[prod] = qtd*1.15\n",
    "    else:\n",
    "        precos[prod] = qtd*1.1\n",
    "    print('produto {} foi de {} para {:.2f} reais'.format(prod,qtd,precos[prod]))\n",
    "    tt2 +=precos[prod]\n",
    "print('O reajuste foi de {}'.format(tt2-tt_original))    \n",
    "    "
   ]
  },
  {
   "cell_type": "markdown",
   "metadata": {},
   "source": [
    "\n",
    "### Exercício 5\n",
    "- Uma empresa está analisando os resultados de vendas do 1º semestre de 2022 e 2023\n",
    "- Qual foi o % de crescimento de cada mês de 2023 em relação a 2022?\n",
    "- Depois de calcular isso, calcule o valor total de crescimento de 2023 em relação a 2022"
   ]
  },
  {
   "cell_type": "code",
   "execution_count": 33,
   "metadata": {},
   "outputs": [
    {
     "name": "stdout",
     "output_type": "stream",
     "text": [
      "A variação do mês jan foi de -11.8% em relação a 2022 e de 13.3% em relação a 2023\n",
      "A variação do mês fev foi de 3.3% em relação a 2022 e de -3.2% em relação a 2023\n",
      "A variação do mês mar foi de -20.0% em relação a 2022 e de 25.0% em relação a 2023\n",
      "A variação do mês abr foi de -1.8% em relação a 2022 e de 1.8% em relação a 2023\n",
      "A variação do mês mai foi de 1.9% em relação a 2022 e de -1.8% em relação a 2023\n",
      "A variação do mês jun foi de -8.1% em relação a 2022 e de 8.8% em relação a 2023\n",
      "variacao total foi de 6.9%\n"
     ]
    }
   ],
   "source": [
    "vendas_22 = {\"jan\": 15000, \"fev\": 15500, \"mar\": 14000, \"abr\": 16600, \"mai\": 16300, \"jun\": 17000}\n",
    "vendas_23 = {\"jan\": 17000, \"fev\": 15000, \"mar\": 17500, \"abr\": 16900, \"mai\": 16000, \"jun\": 18500}\n",
    "vari22 = {}\n",
    "vari23 = {}\n",
    "for mes,qtd in vendas_22.items():\n",
    "    var23 = ((vendas_23[mes] / qtd)-1)\n",
    "    var22 = ((qtd / vendas_23[mes])-1)\n",
    "    print('A variação do mês {} foi de {:.1%} em relação a 2022 e de {:.1%} em relação a 2023'.format(mes,var22,var23))\n",
    "tt22 = sum(vendas_22.values())\n",
    "tt23 = sum(vendas_23.values())\n",
    "var = ((tt23/tt22)-1)\n",
    "print('variacao total foi de {:.1%}'.format(var))"
   ]
  },
  {
   "cell_type": "markdown",
   "metadata": {},
   "source": [
    "### Exercício 6 - Desafio\n",
    "- No final da reunião de apresentação dos números, seu chefe perguntou:\n",
    "- E se nos meses de 2023 que a gente vendeu menos do que 2022 a gente tivesse pelo menos empatado com 2022 (ou seja, se nos meses de 2023 em que as vendas foram menores do que o mesmo mês em 2022, o valor de vendas tivesse sido igual a 2022)\n",
    "- Qual teria sido o nosso crescimento de 2023 frente a 2022?"
   ]
  },
  {
   "cell_type": "code",
   "execution_count": 34,
   "metadata": {},
   "outputs": [
    {
     "name": "stdout",
     "output_type": "stream",
     "text": [
      "variacao total foi de 7.7%\n"
     ]
    }
   ],
   "source": [
    "vendas_22 = {\"jan\": 15000, \"fev\": 15500, \"mar\": 14000, \"abr\": 16600, \"mai\": 16300, \"jun\": 17000}\n",
    "vendas_23 = {\"jan\": 17000, \"fev\": 15000, \"mar\": 17500, \"abr\": 16900, \"mai\": 16000, \"jun\": 18500}\n",
    "\n",
    "for mes,qtd in vendas_22.items():\n",
    "    if qtd > vendas_23[mes]:\n",
    "        vendas_23[mes] = qtd\n",
    "tt22 = sum(vendas_22.values())\n",
    "tt23 = sum(vendas_23.values())\n",
    "var = ((tt23/tt22)-1)\n",
    "print('variacao total foi de {:.1%}'.format(var))"
   ]
  },
  {
   "cell_type": "code",
   "execution_count": null,
   "metadata": {},
   "outputs": [],
   "source": []
  }
 ],
 "metadata": {
  "kernelspec": {
   "display_name": "Python 3",
   "language": "python",
   "name": "python3"
  },
  "language_info": {
   "codemirror_mode": {
    "name": "ipython",
    "version": 3
   },
   "file_extension": ".py",
   "mimetype": "text/x-python",
   "name": "python",
   "nbconvert_exporter": "python",
   "pygments_lexer": "ipython3",
   "version": "3.11.2"
  }
 },
 "nbformat": 4,
 "nbformat_minor": 2
}
