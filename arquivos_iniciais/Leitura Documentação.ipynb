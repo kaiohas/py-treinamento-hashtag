{
 "cells": [
  {
   "cell_type": "markdown",
   "id": "de58cd45",
   "metadata": {},
   "source": [
    "#### Bibliotecas"
   ]
  },
  {
   "cell_type": "code",
   "execution_count": 3,
   "id": "2d75a849",
   "metadata": {},
   "outputs": [
    {
     "data": {
      "text/plain": [
       "0    22\n",
       "1    35\n",
       "2    58\n",
       "Name: Age, dtype: int64"
      ]
     },
     "execution_count": 3,
     "metadata": {},
     "output_type": "execute_result"
    }
   ],
   "source": [
    "# pandas\n",
    "import pandas as pd\n",
    "\n",
    "df = pd.DataFrame(\n",
    "    {\n",
    "        \"Name\": [\n",
    "            \"Braund, Mr. Owen Harris\",\n",
    "            \"Allen, Mr. William Henry\",\n",
    "            \"Bonnell, Miss. Elizabeth\",\n",
    "        ],\n",
    "        \"Age\": [22, 35, 58],\n",
    "        \"Sex\": [\"male\", \"male\", \"female\"],\n",
    "    }\n",
    ")\n",
    "df['Age']"
   ]
  },
  {
   "cell_type": "code",
   "execution_count": 4,
   "id": "24c48fdd",
   "metadata": {},
   "outputs": [
    {
     "data": {
      "text/plain": [
       "0    22\n",
       "1    35\n",
       "2    58\n",
       "Name: Age, dtype: int64"
      ]
     },
     "execution_count": 4,
     "metadata": {},
     "output_type": "execute_result"
    }
   ],
   "source": [
    "ages = pd.Series([22,35,58],name='Age')\n",
    "ages"
   ]
  },
  {
   "cell_type": "code",
   "execution_count": null,
   "id": "5dd52663",
   "metadata": {},
   "outputs": [],
   "source": [
    "# requests"
   ]
  },
  {
   "cell_type": "markdown",
   "id": "5636220b",
   "metadata": {},
   "source": [
    "#### Funções Específicas"
   ]
  },
  {
   "cell_type": "code",
   "execution_count": 23,
   "id": "53dbf246",
   "metadata": {},
   "outputs": [
    {
     "data": {
      "text/html": [
       "<div>\n",
       "<style scoped>\n",
       "    .dataframe tbody tr th:only-of-type {\n",
       "        vertical-align: middle;\n",
       "    }\n",
       "\n",
       "    .dataframe tbody tr th {\n",
       "        vertical-align: top;\n",
       "    }\n",
       "\n",
       "    .dataframe thead th {\n",
       "        text-align: right;\n",
       "    }\n",
       "</style>\n",
       "<table border=\"1\" class=\"dataframe\">\n",
       "  <thead>\n",
       "    <tr style=\"text-align: right;\">\n",
       "      <th></th>\n",
       "      <th>Cliente</th>\n",
       "      <th>Data Pagamento</th>\n",
       "      <th>Data Pagamento 2</th>\n",
       "      <th>Nome</th>\n",
       "      <th>Email</th>\n",
       "    </tr>\n",
       "  </thead>\n",
       "  <tbody>\n",
       "    <tr>\n",
       "      <th>0</th>\n",
       "      <td>Fulano</td>\n",
       "      <td>2022-09-22</td>\n",
       "      <td>2022-09-22</td>\n",
       "      <td>Fulano</td>\n",
       "      <td>fulano@gmail.com</td>\n",
       "    </tr>\n",
       "    <tr>\n",
       "      <th>1</th>\n",
       "      <td>Beltrano</td>\n",
       "      <td>2022-04-17</td>\n",
       "      <td>2022-04-17</td>\n",
       "      <td>Beltrano</td>\n",
       "      <td>beltrano@gmail.com</td>\n",
       "    </tr>\n",
       "    <tr>\n",
       "      <th>2</th>\n",
       "      <td>Ciclano</td>\n",
       "      <td>2022-02-21</td>\n",
       "      <td>2022-02-21</td>\n",
       "      <td>Ciclano</td>\n",
       "      <td>ciclano@gmail.com</td>\n",
       "    </tr>\n",
       "    <tr>\n",
       "      <th>3</th>\n",
       "      <td>Lira</td>\n",
       "      <td>2022-12-27</td>\n",
       "      <td>2022-12-27</td>\n",
       "      <td>Lira</td>\n",
       "      <td>lira@gmail.com</td>\n",
       "    </tr>\n",
       "    <tr>\n",
       "      <th>4</th>\n",
       "      <td>Julia</td>\n",
       "      <td>2022-02-01</td>\n",
       "      <td>2022-02-01</td>\n",
       "      <td>Julia</td>\n",
       "      <td>julia@gmail.com</td>\n",
       "    </tr>\n",
       "    <tr>\n",
       "      <th>5</th>\n",
       "      <td>Marcus</td>\n",
       "      <td>2022-07-08</td>\n",
       "      <td>2022-07-08</td>\n",
       "      <td>Marcus</td>\n",
       "      <td>marcus@gmail.com</td>\n",
       "    </tr>\n",
       "    <tr>\n",
       "      <th>6</th>\n",
       "      <td>Amanda</td>\n",
       "      <td>2022-09-28</td>\n",
       "      <td>2022-09-28</td>\n",
       "      <td>Amanda</td>\n",
       "      <td>amanda@gmail.com</td>\n",
       "    </tr>\n",
       "    <tr>\n",
       "      <th>7</th>\n",
       "      <td>Larissa</td>\n",
       "      <td>2022-05-28</td>\n",
       "      <td>2022-05-28</td>\n",
       "      <td>Larissa</td>\n",
       "      <td>larissa@gmail.com</td>\n",
       "    </tr>\n",
       "    <tr>\n",
       "      <th>8</th>\n",
       "      <td>Alon</td>\n",
       "      <td>2022-10-06</td>\n",
       "      <td>2022-10-06</td>\n",
       "      <td>Alon</td>\n",
       "      <td>alon@gmail.com</td>\n",
       "    </tr>\n",
       "  </tbody>\n",
       "</table>\n",
       "</div>"
      ],
      "text/plain": [
       "    Cliente Data Pagamento Data Pagamento 2      Nome               Email\n",
       "0    Fulano     2022-09-22       2022-09-22    Fulano    fulano@gmail.com\n",
       "1  Beltrano     2022-04-17       2022-04-17  Beltrano  beltrano@gmail.com\n",
       "2   Ciclano     2022-02-21       2022-02-21   Ciclano   ciclano@gmail.com\n",
       "3      Lira     2022-12-27       2022-12-27      Lira      lira@gmail.com\n",
       "4     Julia     2022-02-01       2022-02-01     Julia     julia@gmail.com\n",
       "5    Marcus     2022-07-08       2022-07-08    Marcus    marcus@gmail.com\n",
       "6    Amanda     2022-09-28       2022-09-28    Amanda    amanda@gmail.com\n",
       "7   Larissa     2022-05-28       2022-05-28   Larissa   larissa@gmail.com\n",
       "8      Alon     2022-10-06       2022-10-06      Alon      alon@gmail.com"
      ]
     },
     "metadata": {},
     "output_type": "display_data"
    },
    {
     "data": {
      "text/html": [
       "<div>\n",
       "<style scoped>\n",
       "    .dataframe tbody tr th:only-of-type {\n",
       "        vertical-align: middle;\n",
       "    }\n",
       "\n",
       "    .dataframe tbody tr th {\n",
       "        vertical-align: top;\n",
       "    }\n",
       "\n",
       "    .dataframe thead th {\n",
       "        text-align: right;\n",
       "    }\n",
       "</style>\n",
       "<table border=\"1\" class=\"dataframe\">\n",
       "  <thead>\n",
       "    <tr style=\"text-align: right;\">\n",
       "      <th></th>\n",
       "      <th>Nome</th>\n",
       "      <th>Email</th>\n",
       "    </tr>\n",
       "  </thead>\n",
       "  <tbody>\n",
       "    <tr>\n",
       "      <th>0</th>\n",
       "      <td>Fulano</td>\n",
       "      <td>fulano@gmail.com</td>\n",
       "    </tr>\n",
       "    <tr>\n",
       "      <th>1</th>\n",
       "      <td>Beltrano</td>\n",
       "      <td>beltrano@gmail.com</td>\n",
       "    </tr>\n",
       "    <tr>\n",
       "      <th>2</th>\n",
       "      <td>Ciclano</td>\n",
       "      <td>ciclano@gmail.com</td>\n",
       "    </tr>\n",
       "    <tr>\n",
       "      <th>3</th>\n",
       "      <td>Lira</td>\n",
       "      <td>lira@gmail.com</td>\n",
       "    </tr>\n",
       "    <tr>\n",
       "      <th>4</th>\n",
       "      <td>Julia</td>\n",
       "      <td>julia@gmail.com</td>\n",
       "    </tr>\n",
       "    <tr>\n",
       "      <th>5</th>\n",
       "      <td>Marcus</td>\n",
       "      <td>marcus@gmail.com</td>\n",
       "    </tr>\n",
       "    <tr>\n",
       "      <th>6</th>\n",
       "      <td>Amanda</td>\n",
       "      <td>amanda@gmail.com</td>\n",
       "    </tr>\n",
       "    <tr>\n",
       "      <th>7</th>\n",
       "      <td>Larissa</td>\n",
       "      <td>larissa@gmail.com</td>\n",
       "    </tr>\n",
       "    <tr>\n",
       "      <th>8</th>\n",
       "      <td>Alon</td>\n",
       "      <td>alon@gmail.com</td>\n",
       "    </tr>\n",
       "  </tbody>\n",
       "</table>\n",
       "</div>"
      ],
      "text/plain": [
       "       Nome               Email\n",
       "0    Fulano    fulano@gmail.com\n",
       "1  Beltrano  beltrano@gmail.com\n",
       "2   Ciclano   ciclano@gmail.com\n",
       "3      Lira      lira@gmail.com\n",
       "4     Julia     julia@gmail.com\n",
       "5    Marcus    marcus@gmail.com\n",
       "6    Amanda    amanda@gmail.com\n",
       "7   Larissa   larissa@gmail.com\n",
       "8      Alon      alon@gmail.com"
      ]
     },
     "metadata": {},
     "output_type": "display_data"
    }
   ],
   "source": [
    "# datas no pandas\n",
    "import pandas as pd\n",
    "contratos = pd.read_excel('Contratos.xlsx')\n",
    "emails = pd.read_excel('Emails.xlsx')\n",
    "contratos['Data Pagamento'] = pd.to_datetime(contratos['Data Pagamento'],format='%d/%m/%Y')\n",
    "contratos['Data Pagamento 2'] = pd.to_datetime(contratos['Data Pagamento 2'],format='%m-%d-%y')\n",
    "#contratos = contratos.rename(columns={'Cliente':'Nome'})\n",
    "contratos = contratos.merge(emails,left_on='Cliente',right_on='Nome')\n",
    "\n",
    "display(contratos)\n",
    "display(emails)"
   ]
  },
  {
   "cell_type": "code",
   "execution_count": null,
   "id": "ddd2cd08",
   "metadata": {},
   "outputs": [],
   "source": [
    "# funcao datetime\n"
   ]
  },
  {
   "cell_type": "code",
   "execution_count": null,
   "id": "25f4909e",
   "metadata": {},
   "outputs": [],
   "source": [
    "# funcao merge do pandas"
   ]
  },
  {
   "cell_type": "markdown",
   "id": "57bdedb1",
   "metadata": {},
   "source": [
    "#### APIs"
   ]
  },
  {
   "cell_type": "code",
   "execution_count": null,
   "id": "4c1970b5",
   "metadata": {},
   "outputs": [],
   "source": [
    "# documentação de APIs cada uma é diferente da outra, \n",
    "# vejam o módulo de API que eu faço vários exemplos lá\n",
    "\n",
    "# exemplo sandbox https://dadosabertos.bcb.gov.br/dataset/dinheiro-em-circulao\n",
    "\n",
    "# exemplo documentação: https://www.alphavantage.co/"
   ]
  }
 ],
 "metadata": {
  "kernelspec": {
   "display_name": "Python 3 (ipykernel)",
   "language": "python",
   "name": "python3"
  },
  "language_info": {
   "codemirror_mode": {
    "name": "ipython",
    "version": 3
   },
   "file_extension": ".py",
   "mimetype": "text/x-python",
   "name": "python",
   "nbconvert_exporter": "python",
   "pygments_lexer": "ipython3",
   "version": "3.12.1"
  }
 },
 "nbformat": 4,
 "nbformat_minor": 5
}
