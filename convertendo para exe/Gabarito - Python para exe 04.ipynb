{
 "cells": [
  {
   "cell_type": "markdown",
   "metadata": {
    "id": "FsfJ3uv0bKTg"
   },
   "source": [
    "# Python para executável em programas mais complexos\n",
    "\n",
    "### Objetivo:\n",
    "\n",
    "Muitas vezes nossos códigos puxam informações de outros arquivos ou, no caso de webscraping, usam outros arquivos como o chromedriver.exe para funcionar.\n",
    "\n",
    "Nesses casos, precisamos não só tomar alguns cuidados, mas também adaptar o nosso código para funcionar.\n",
    "\n",
    "### O que usaremos:\n",
    "\n",
    "- auto-py-to-exe para transformar o arquivo python em executável\n",
    "- pathlib ou os para adaptar todos os \"caminhos dos arquivos\"\n",
    "- Alternativamente, podemos usar o tkinter para permitir a gente escolher manualmente o arquivo, independente do computador que vamos rodar o programa\n",
    "\n",
    "Vamos ver como isso funciona na prática"
   ]
  },
  {
   "cell_type": "markdown",
   "metadata": {
    "id": "QM9knig0b3mD"
   },
   "source": [
    "### Vamos rodar com um exemplo que temos na hashtag. Como pegar os links de vídeos do youtube\n",
    "\n"
   ]
  },
  {
   "cell_type": "markdown",
   "metadata": {
    "id": "dhwWRsVecDdr"
   },
   "source": [
    "### Importações"
   ]
  },
  {
   "cell_type": "code",
   "execution_count": 1,
   "metadata": {},
   "outputs": [],
   "source": [
    "#importar bibliotecas\n",
    "import time, urllib\n",
    "from IPython.display import display\n",
    "from selenium import webdriver \n",
    "import pandas as pd \n",
    "import numpy as np\n",
    "from selenium.webdriver.common.by import By \n",
    "from selenium.webdriver.support.ui import WebDriverWait \n",
    "from selenium.webdriver.support import expected_conditions as EC\n",
    "from selenium.webdriver.common.keys import Keys\n",
    "from selenium.common.exceptions import StaleElementReferenceException\n",
    "from tkinter import *\n",
    "import tkinter.filedialog\n",
    "from tkinter import messagebox"
   ]
  },
  {
   "cell_type": "markdown",
   "metadata": {},
   "source": [
    "### Pegando o arquivo em Excel do nosso computador "
   ]
  },
  {
   "cell_type": "code",
   "execution_count": 4,
   "metadata": {},
   "outputs": [
    {
     "data": {
      "text/html": [
       "<div>\n",
       "<style scoped>\n",
       "    .dataframe tbody tr th:only-of-type {\n",
       "        vertical-align: middle;\n",
       "    }\n",
       "\n",
       "    .dataframe tbody tr th {\n",
       "        vertical-align: top;\n",
       "    }\n",
       "\n",
       "    .dataframe thead th {\n",
       "        text-align: right;\n",
       "    }\n",
       "</style>\n",
       "<table border=\"1\" class=\"dataframe\">\n",
       "  <thead>\n",
       "    <tr style=\"text-align: right;\">\n",
       "      <th></th>\n",
       "      <th>Canais</th>\n",
       "    </tr>\n",
       "  </thead>\n",
       "  <tbody>\n",
       "    <tr>\n",
       "      <th>0</th>\n",
       "      <td>https://www.youtube.com/channel/UCw0leRmeaX7R_...</td>\n",
       "    </tr>\n",
       "    <tr>\n",
       "      <th>1</th>\n",
       "      <td>https://www.youtube.com/user/ninjadoexcel</td>\n",
       "    </tr>\n",
       "  </tbody>\n",
       "</table>\n",
       "</div>"
      ],
      "text/plain": [
       "                                              Canais\n",
       "0  https://www.youtube.com/channel/UCw0leRmeaX7R_...\n",
       "1          https://www.youtube.com/user/ninjadoexcel"
      ]
     },
     "metadata": {},
     "output_type": "display_data"
    }
   ],
   "source": [
    "#ler csv\n",
    "root= Tk()\n",
    "arquivo = tkinter.filedialog.askopenfilename(title = \"Selecione o Arquivo csv com Canais e Keywords\")\n",
    "root.destroy()\n",
    "\n",
    "buscas_df = pd.read_csv(arquivo, encoding = 'ISO-8859-1', sep=';')\n",
    "buscas_df.rename(columns={\"ÿCanais\":\"Canais\"},inplace=True)\n",
    "display(buscas_df.head())"
   ]
  },
  {
   "cell_type": "markdown",
   "metadata": {},
   "source": [
    "### Pegandos os links no youtube "
   ]
  },
  {
   "cell_type": "code",
   "execution_count": 5,
   "metadata": {},
   "outputs": [
    {
     "ename": "TimeoutException",
     "evalue": "Message: \nStacktrace:\n\tGetHandleVerifier [0x00007FF7ABAE9642+30946]\n\t(No symbol) [0x00007FF7ABA9E3D9]\n\t(No symbol) [0x00007FF7AB996FDA]\n\t(No symbol) [0x00007FF7AB9E822C]\n\t(No symbol) [0x00007FF7AB9E850C]\n\t(No symbol) [0x00007FF7ABA2DCB7]\n\t(No symbol) [0x00007FF7ABA0CAAF]\n\t(No symbol) [0x00007FF7ABA2B041]\n\t(No symbol) [0x00007FF7ABA0C813]\n\t(No symbol) [0x00007FF7AB9DA6E5]\n\t(No symbol) [0x00007FF7AB9DB021]\n\tGetHandleVerifier [0x00007FF7ABC1F84D+1301229]\n\tGetHandleVerifier [0x00007FF7ABC2BDC7+1351783]\n\tGetHandleVerifier [0x00007FF7ABC22A13+1313971]\n\tGetHandleVerifier [0x00007FF7ABB1DD16+245686]\n\t(No symbol) [0x00007FF7ABAA759F]\n\t(No symbol) [0x00007FF7ABAA3814]\n\t(No symbol) [0x00007FF7ABAA39A2]\n\t(No symbol) [0x00007FF7ABA9A3FF]\n\tBaseThreadInitThunk [0x00007FF86A58257D+29]\n\tRtlUserThreadStart [0x00007FF86B88AF28+40]\n",
     "output_type": "error",
     "traceback": [
      "\u001b[1;31m---------------------------------------------------------------------------\u001b[0m",
      "\u001b[1;31mTimeoutException\u001b[0m                          Traceback (most recent call last)",
      "Cell \u001b[1;32mIn[5], line 14\u001b[0m\n\u001b[0;32m     12\u001b[0m hrefs\u001b[38;5;241m.\u001b[39mappend(canal)\n\u001b[0;32m     13\u001b[0m driver\u001b[38;5;241m.\u001b[39mget(canal)\n\u001b[1;32m---> 14\u001b[0m myElem \u001b[38;5;241m=\u001b[39m \u001b[43mWebDriverWait\u001b[49m\u001b[43m(\u001b[49m\u001b[43mdriver\u001b[49m\u001b[43m,\u001b[49m\u001b[43m \u001b[49m\u001b[43mdelay\u001b[49m\u001b[43m)\u001b[49m\u001b[38;5;241;43m.\u001b[39;49m\u001b[43muntil\u001b[49m\u001b[43m(\u001b[49m\u001b[43mEC\u001b[49m\u001b[38;5;241;43m.\u001b[39;49m\u001b[43mpresence_of_element_located\u001b[49m\u001b[43m(\u001b[49m\u001b[43m(\u001b[49m\u001b[43mBy\u001b[49m\u001b[38;5;241;43m.\u001b[39;49m\u001b[43mCLASS_NAME\u001b[49m\u001b[43m,\u001b[49m\u001b[43m \u001b[49m\u001b[38;5;124;43m'\u001b[39;49m\u001b[38;5;124;43mpaper-tab\u001b[39;49m\u001b[38;5;124;43m'\u001b[39;49m\u001b[43m)\u001b[49m\u001b[43m)\u001b[49m\u001b[43m)\u001b[49m\n\u001b[0;32m     15\u001b[0m time\u001b[38;5;241m.\u001b[39msleep(\u001b[38;5;241m2\u001b[39m)\n\u001b[0;32m     16\u001b[0m tab \u001b[38;5;241m=\u001b[39m driver\u001b[38;5;241m.\u001b[39mfind_elements(By\u001b[38;5;241m.\u001b[39mCLASS_NAME, \u001b[38;5;124m'\u001b[39m\u001b[38;5;124mpaper-tab\u001b[39m\u001b[38;5;124m'\u001b[39m)[\u001b[38;5;241m1\u001b[39m]\u001b[38;5;241m.\u001b[39mclick()\n",
      "File \u001b[1;32mc:\\Users\\Pichau\\AppData\\Local\\Programs\\Python\\Python312\\Lib\\site-packages\\selenium\\webdriver\\support\\wait.py:105\u001b[0m, in \u001b[0;36mWebDriverWait.until\u001b[1;34m(self, method, message)\u001b[0m\n\u001b[0;32m    103\u001b[0m     \u001b[38;5;28;01mif\u001b[39;00m time\u001b[38;5;241m.\u001b[39mmonotonic() \u001b[38;5;241m>\u001b[39m end_time:\n\u001b[0;32m    104\u001b[0m         \u001b[38;5;28;01mbreak\u001b[39;00m\n\u001b[1;32m--> 105\u001b[0m \u001b[38;5;28;01mraise\u001b[39;00m TimeoutException(message, screen, stacktrace)\n",
      "\u001b[1;31mTimeoutException\u001b[0m: Message: \nStacktrace:\n\tGetHandleVerifier [0x00007FF7ABAE9642+30946]\n\t(No symbol) [0x00007FF7ABA9E3D9]\n\t(No symbol) [0x00007FF7AB996FDA]\n\t(No symbol) [0x00007FF7AB9E822C]\n\t(No symbol) [0x00007FF7AB9E850C]\n\t(No symbol) [0x00007FF7ABA2DCB7]\n\t(No symbol) [0x00007FF7ABA0CAAF]\n\t(No symbol) [0x00007FF7ABA2B041]\n\t(No symbol) [0x00007FF7ABA0C813]\n\t(No symbol) [0x00007FF7AB9DA6E5]\n\t(No symbol) [0x00007FF7AB9DB021]\n\tGetHandleVerifier [0x00007FF7ABC1F84D+1301229]\n\tGetHandleVerifier [0x00007FF7ABC2BDC7+1351783]\n\tGetHandleVerifier [0x00007FF7ABC22A13+1313971]\n\tGetHandleVerifier [0x00007FF7ABB1DD16+245686]\n\t(No symbol) [0x00007FF7ABAA759F]\n\t(No symbol) [0x00007FF7ABAA3814]\n\t(No symbol) [0x00007FF7ABAA39A2]\n\t(No symbol) [0x00007FF7ABA9A3FF]\n\tBaseThreadInitThunk [0x00007FF86A58257D+29]\n\tRtlUserThreadStart [0x00007FF86B88AF28+40]\n"
     ]
    }
   ],
   "source": [
    "buscas_canais = buscas_df['Canais'].unique()\n",
    "# ler videos de todas as buscas\n",
    "driver = webdriver.Chrome() \n",
    "\n",
    "hrefs = []\n",
    "delay = 5\n",
    " \n",
    "# pegando os itens dos canais\n",
    "for canal in buscas_canais:\n",
    "    if canal is np.nan:\n",
    "        break\n",
    "    hrefs.append(canal)\n",
    "    driver.get(canal)\n",
    "    myElem = WebDriverWait(driver, delay).until(EC.presence_of_element_located((By.CLASS_NAME, 'paper-tab')))\n",
    "    time.sleep(2)\n",
    "    tab = driver.find_elements(By.CLASS_NAME, 'paper-tab')[1].click()\n",
    "    time.sleep(2)\n",
    "    altura = 0\n",
    "    nova_altura = 1\n",
    "    while nova_altura > altura:\n",
    "            altura = driver.execute_script(\"return document.documentElement.scrollHeight\")\n",
    "            driver.execute_script(\"window.scrollTo(0, \" + str(altura) + \");\")\n",
    "            time.sleep(3)\n",
    "            nova_altura = driver.execute_script(\"return document.documentElement.scrollHeight\")\n",
    "    videos = driver.find_elements(By.ID, 'thumbnail')\n",
    "    try:\n",
    "        for video in videos:\n",
    "            meu_link = video.get_attribute('href')\n",
    "            if meu_link:\n",
    "                if not 'googleadservices' in meu_link: \n",
    "                    hrefs.append(meu_link)\n",
    "    except StaleElementReferenceException:\n",
    "        time.sleep(2)\n",
    "        videos = driver.find_elements(By.ID, 'thumbnail')\n",
    "        for video in videos:\n",
    "            meu_link = video.get_attribute('href')\n",
    "            if meu_link:\n",
    "                if not 'googleadservices' in meu_link: \n",
    "                    hrefs.append(meu_link)\n",
    "    print('Pegamos {} vídeos do Canal {}'.format(len(videos), canal))\n",
    "\n",
    "driver.quit()"
   ]
  },
  {
   "cell_type": "markdown",
   "metadata": {},
   "source": [
    "### Gerando arquivo final "
   ]
  },
  {
   "cell_type": "code",
   "execution_count": 6,
   "metadata": {},
   "outputs": [],
   "source": [
    "#salvando o resultado em um csv\n",
    "hrefs_df = pd.DataFrame(hrefs)\n",
    "hrefs_df.to_csv(r'Canais Prontos.csv', sep=',', encoding='utf-8')\n",
    "root= Tk()\n",
    "messagebox.showinfo(\"Programa Finalizado com Sucesso\", \"Seu arquivo csv foi gerado com sucesso na pasta do Programa\")\n",
    "root.destroy()"
   ]
  }
 ],
 "metadata": {
  "colab": {
   "authorship_tag": "ABX9TyNdHDDm3VOhRC+ZQ9GcaSka",
   "name": "Python para exe 04.ipynb",
   "provenance": []
  },
  "kernelspec": {
   "display_name": "Python 3",
   "language": "python",
   "name": "python3"
  },
  "language_info": {
   "codemirror_mode": {
    "name": "ipython",
    "version": 3
   },
   "file_extension": ".py",
   "mimetype": "text/x-python",
   "name": "python",
   "nbconvert_exporter": "python",
   "pygments_lexer": "ipython3",
   "version": "3.12.1"
  }
 },
 "nbformat": 4,
 "nbformat_minor": 1
}
