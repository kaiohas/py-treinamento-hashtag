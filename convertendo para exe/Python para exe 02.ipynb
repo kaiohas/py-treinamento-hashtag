{
 "cells": [
  {
   "cell_type": "markdown",
   "metadata": {
    "id": "b4JhAh2zVtLX"
   },
   "source": [
    "# Python para exe com códigos simples\n",
    "\n",
    "### Códigos que não interagem com outros arquivos ou ferramentas do computador\n",
    "\n",
    "Usaremos a biblioteca pyinstaller\n",
    "\n",
    "- Passo 1 - Instalar o pyinstaller\n",
    "\n",
    "- Passo 2 - Executar o pyinstaller\n",
    "\n",
    "pyinstaller -w nome_do_programa.py"
   ]
  },
  {
   "cell_type": "code",
   "execution_count": 1,
   "metadata": {},
   "outputs": [
    {
     "name": "stdout",
     "output_type": "stream",
     "text": [
      "Collecting pyinstaller\n",
      "  Downloading pyinstaller-6.10.0-py3-none-win_amd64.whl.metadata (8.3 kB)\n",
      "Requirement already satisfied: setuptools>=42.0.0 in c:\\users\\pichau\\appdata\\local\\programs\\python\\python312\\lib\\site-packages (from pyinstaller) (72.2.0)\n",
      "Collecting altgraph (from pyinstaller)\n",
      "  Downloading altgraph-0.17.4-py2.py3-none-any.whl.metadata (7.3 kB)\n",
      "Collecting pyinstaller-hooks-contrib>=2024.8 (from pyinstaller)\n",
      "  Downloading pyinstaller_hooks_contrib-2024.8-py3-none-any.whl.metadata (16 kB)\n",
      "Requirement already satisfied: packaging>=22.0 in c:\\users\\pichau\\appdata\\roaming\\python\\python312\\site-packages (from pyinstaller) (24.1)\n",
      "Collecting pefile>=2022.5.30 (from pyinstaller)\n",
      "  Downloading pefile-2023.2.7-py3-none-any.whl.metadata (1.4 kB)\n",
      "Collecting pywin32-ctypes>=0.2.1 (from pyinstaller)\n",
      "  Downloading pywin32_ctypes-0.2.3-py3-none-any.whl.metadata (3.9 kB)\n",
      "Downloading pyinstaller-6.10.0-py3-none-win_amd64.whl (1.3 MB)\n",
      "   ---------------------------------------- 0.0/1.3 MB ? eta -:--:--\n",
      "   --- ------------------------------------ 0.1/1.3 MB 3.3 MB/s eta 0:00:01\n",
      "   ------------------ --------------------- 0.6/1.3 MB 7.7 MB/s eta 0:00:01\n",
      "   ---------------------------------------  1.3/1.3 MB 14.1 MB/s eta 0:00:01\n",
      "   ---------------------------------------  1.3/1.3 MB 14.1 MB/s eta 0:00:01\n",
      "   ---------------------------------------  1.3/1.3 MB 14.1 MB/s eta 0:00:01\n",
      "   ---------------------------------------- 1.3/1.3 MB 5.3 MB/s eta 0:00:00\n",
      "Downloading pefile-2023.2.7-py3-none-any.whl (71 kB)\n",
      "   ---------------------------------------- 0.0/71.8 kB ? eta -:--:--\n",
      "   ---------------------------------------- 71.8/71.8 kB 3.8 MB/s eta 0:00:00\n",
      "Downloading pyinstaller_hooks_contrib-2024.8-py3-none-any.whl (322 kB)\n",
      "   ---------------------------------------- 0.0/322.8 kB ? eta -:--:--\n",
      "   --------------------------------------- 322.8/322.8 kB 19.5 MB/s eta 0:00:00\n",
      "Downloading pywin32_ctypes-0.2.3-py3-none-any.whl (30 kB)\n",
      "Downloading altgraph-0.17.4-py2.py3-none-any.whl (21 kB)\n",
      "Installing collected packages: altgraph, pywin32-ctypes, pyinstaller-hooks-contrib, pefile, pyinstaller\n",
      "Successfully installed altgraph-0.17.4 pefile-2023.2.7 pyinstaller-6.10.0 pyinstaller-hooks-contrib-2024.8 pywin32-ctypes-0.2.3\n",
      "Note: you may need to restart the kernel to use updated packages.\n"
     ]
    }
   ],
   "source": [
    "pip install pyinstaller"
   ]
  },
  {
   "cell_type": "code",
   "execution_count": 1,
   "metadata": {
    "id": "QyMJ1jUXVnXu"
   },
   "outputs": [
    {
     "name": "stdout",
     "output_type": "stream",
     "text": [
      "SM86da292efe004165820911a7d101d5a8\n"
     ]
    }
   ],
   "source": [
    "import json\n",
    "import os\n",
    "import time\n",
    "\n",
    "\n",
    "def adicionar_item(compras, item, quantidade):\n",
    "    compras[item] = quantidade\n",
    "\n",
    "\n",
    "def remover_item(compras, item):\n",
    "    if item in compras:\n",
    "        del compras[item]\n",
    "\n",
    "\n",
    "def visualizar_compras(compras):\n",
    "    for item, quantidade in compras.items():\n",
    "        print(f\"{item}: {quantidade}\")\n",
    "    print()\n",
    "    print(\"Pressione enter para continuar\")\n",
    "    input()\n",
    "\n",
    "\n",
    "def salvar_compras(compras, nome_arquivo):\n",
    "    with open(nome_arquivo, \"w\") as arquivo:\n",
    "        json.dump(compras, arquivo)\n",
    "\n",
    "\n",
    "def carregar_compras(nome_arquivo):\n",
    "    with open(nome_arquivo, \"r\") as arquivo:\n",
    "        return json.load(arquivo)\n",
    "\n",
    "\n",
    "def gerenciar_compras(compras, nome_arquivo=None):\n",
    "    while True:\n",
    "        os.system(\"cls\" if os.name == \"nt\" else \"clear\")\n",
    "        print(\"1 Adicionar item\")\n",
    "        print(\"2 Remover item\")\n",
    "        print(\"3 Visualizar lista\")\n",
    "        print(\"4 Salvar e sair\")\n",
    "        print(\"5 Sair sem salvar\")\n",
    "        escolha = input(\"Escolha uma opção: \")\n",
    "        \n",
    "        if escolha == \"1\":\n",
    "            item = input(\"Digite o nome do item: \")\n",
    "            quantidade = int(input(\"Digite a quantidade: \"))\n",
    "            adicionar_item(compras, item, quantidade)\n",
    "        elif escolha == \"2\":\n",
    "            item = input(\"Digite o nome do item: \")\n",
    "            remover_item(compras, item)\n",
    "        elif escolha == \"3\":\n",
    "            visualizar_compras(compras)\n",
    "        elif escolha == \"4\":\n",
    "            if nome_arquivo is None:\n",
    "                nome_arquivo = input(\"Digite o nome do arquivo para salvar: \")\n",
    "            if not nome_arquivo.endswith(\".json\"):\n",
    "                nome_arquivo += \".json\"\n",
    "            salvar_compras(compras, nome_arquivo)\n",
    "            break\n",
    "        elif escolha == \"5\":\n",
    "            break\n",
    "        else:\n",
    "            print(\"Opção inválida\")\n",
    "            time.sleep(1)\n",
    "\n",
    "\n",
    "def main(): \n",
    "    while True: \n",
    "        os.system(\"cls\" if os.name == \"nt\" else \"clear\")\n",
    "        print(\"1 Criar uma nova lista de compras\")\n",
    "        print(\"2 Carregar uma lista existente\")\n",
    "        print(\"3 Sair\")\n",
    "        escolha = input(\"Escolha uma opção: \")\n",
    "        \n",
    "        if escolha == \"1\":\n",
    "            compras = {}\n",
    "            gerenciar_compras(compras)\n",
    "\n",
    "        elif escolha == \"2\":\n",
    "            print(\"Listas disponíveis:\")\n",
    "            arquivos = [arquivo for arquivo in os.listdir() if arquivo.endswith(\".json\")]\n",
    "            if not arquivos:\n",
    "                print(\"Nenhuma lista encontrada\")\n",
    "                time.sleep(2)\n",
    "                continue\n",
    "            for i, arquivo in enumerate(arquivos, 1):\n",
    "                print(f\"{i} {arquivo}\")\n",
    "            escolha = int(input(\"Escolha uma lista para carregar (0 se nenhuma): \"))\n",
    "            if escolha == 0:\n",
    "                continue\n",
    "            if escolha < 0 or escolha > len(arquivos):\n",
    "                print(\"Opção inválida\")\n",
    "                time.sleep(1)\n",
    "                continue\n",
    "            nome_arquivo = arquivos[escolha - 1]\n",
    "            compras = carregar_compras(nome_arquivo)\n",
    "            gerenciar_compras(compras, nome_arquivo)\n",
    "                \n",
    "        elif escolha == \"3\":\n",
    "            break\n",
    "        else:\n",
    "            print(\"Opção inválida\")\n",
    "            time.sleep(1)\n",
    "\n",
    "\n",
    "if __name__ == \"__main__\":\n",
    "    main()\n"
   ]
  },
  {
   "cell_type": "markdown",
   "metadata": {
    "id": "37iaL3xlWjN2"
   },
   "source": [
    "### Atenção no resultado\n",
    "\n",
    "Repare que o programa final vai ficar extremamente pesado.\n",
    "\n",
    "Isso porque o pyinstaller vai incluir todas as bibliotecas que temos instaladas no programa final, para garantir que ele vai funcionar.\n",
    "\n",
    "Para evitar isso, precisaremos criar um ambiente virtual exclusivo para esse programa, vamos ver na prática como funciona na próxima aula"
   ]
  },
  {
   "cell_type": "markdown",
   "metadata": {},
   "source": [
    "### Observações Úteis\n",
    "\n",
    "- Se o nome do seu arquivo .py tiver mais de uma palavra, na hora de testar, coloque o nome dele entre aspas duplas.<br>Ex:  python \"Gabarito - SMS.py\"\n",
    "- Se o seu antivírus verificar o pyinstaller, não precisa se preocupar, é normal e tá tudo certo\n",
    "- Provavelmente a 1ª vez que você rodar o seu programa, o antivírus vai verificar ele também\n",
    "- A pasta dist é o que pode ser distribuído. Você pode compactar ela em um zip e mandar para quem você quiser"
   ]
  }
 ],
 "metadata": {
  "colab": {
   "authorship_tag": "ABX9TyMBXqtjkfYt9MRGhUP9LoJG",
   "name": "Python para exe 02.ipynb",
   "provenance": []
  },
  "kernelspec": {
   "display_name": "Python 3",
   "language": "python",
   "name": "python3"
  },
  "language_info": {
   "codemirror_mode": {
    "name": "ipython",
    "version": 3
   },
   "file_extension": ".py",
   "mimetype": "text/x-python",
   "name": "python",
   "nbconvert_exporter": "python",
   "pygments_lexer": "ipython3",
   "version": "3.12.1"
  }
 },
 "nbformat": 4,
 "nbformat_minor": 1
}
