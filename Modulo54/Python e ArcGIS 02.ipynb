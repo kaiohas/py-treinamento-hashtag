{
 "cells": [
  {
   "cell_type": "markdown",
   "metadata": {},
   "source": [
    "# Vamos usar a API do ArcGIS\n",
    "\n",
    "- Links Úteis: \n",
    "    - Documentação: https://developers.arcgis.com/python/\n",
    "    - Guias: https://developers.arcgis.com/python/guide/install-and-set-up/"
   ]
  },
  {
   "cell_type": "code",
   "execution_count": 1,
   "metadata": {},
   "outputs": [
    {
     "name": "stdout",
     "output_type": "stream",
     "text": [
      "Unexpected exception formatting exception. Falling back to standard exception\n"
     ]
    },
    {
     "name": "stderr",
     "output_type": "stream",
     "text": [
      "Traceback (most recent call last):\n",
      "  File \"C:\\Users\\Pichau\\anaconda3\\envs\\meu_ambiente\\lib\\site-packages\\IPython\\core\\interactiveshell.py\", line 3550, in run_code\n",
      "  File \"C:\\Users\\Pichau\\AppData\\Local\\Temp\\ipykernel_21008\\388494144.py\", line 1, in <module>\n",
      "    from arcgis.gis import GIS\n",
      "ModuleNotFoundError: No module named 'arcgis'\n",
      "\n",
      "During handling of the above exception, another exception occurred:\n",
      "\n",
      "Traceback (most recent call last):\n",
      "  File \"C:\\Users\\Pichau\\anaconda3\\envs\\meu_ambiente\\lib\\site-packages\\pygments\\styles\\__init__.py\", line 45, in get_style_by_name\n",
      "ModuleNotFoundError: No module named 'pygments.styles.default'\n",
      "\n",
      "During handling of the above exception, another exception occurred:\n",
      "\n",
      "Traceback (most recent call last):\n",
      "  File \"C:\\Users\\Pichau\\anaconda3\\envs\\meu_ambiente\\lib\\site-packages\\IPython\\core\\interactiveshell.py\", line 2144, in showtraceback\n",
      "  File \"C:\\Users\\Pichau\\anaconda3\\envs\\meu_ambiente\\lib\\site-packages\\IPython\\core\\ultratb.py\", line 1435, in structured_traceback\n",
      "  File \"C:\\Users\\Pichau\\anaconda3\\envs\\meu_ambiente\\lib\\site-packages\\IPython\\core\\ultratb.py\", line 1326, in structured_traceback\n",
      "  File \"C:\\Users\\Pichau\\anaconda3\\envs\\meu_ambiente\\lib\\site-packages\\IPython\\core\\ultratb.py\", line 1173, in structured_traceback\n",
      "  File \"C:\\Users\\Pichau\\anaconda3\\envs\\meu_ambiente\\lib\\site-packages\\IPython\\core\\ultratb.py\", line 1063, in format_exception_as_a_whole\n",
      "  File \"C:\\Users\\Pichau\\anaconda3\\envs\\meu_ambiente\\lib\\site-packages\\IPython\\core\\ultratb.py\", line 1114, in get_records\n",
      "  File \"C:\\Users\\Pichau\\anaconda3\\envs\\meu_ambiente\\lib\\site-packages\\pygments\\styles\\__init__.py\", line 47, in get_style_by_name\n",
      "pygments.util.ClassNotFound: Could not find style module 'pygments.styles.default', though it should be builtin.\n"
     ]
    }
   ],
   "source": [
    "from arcgis.gis import GIS\n",
    "gis = GIS()\n",
    "\n",
    "user = gis.users.get('rxsingh')\n",
    "display(user)"
   ]
  },
  {
   "cell_type": "code",
   "execution_count": null,
   "metadata": {},
   "outputs": [],
   "source": []
  },
  {
   "cell_type": "code",
   "execution_count": null,
   "metadata": {},
   "outputs": [],
   "source": []
  },
  {
   "cell_type": "code",
   "execution_count": null,
   "metadata": {},
   "outputs": [],
   "source": []
  }
 ],
 "metadata": {
  "kernelspec": {
   "display_name": "Python 3 (ipykernel)",
   "language": "python",
   "name": "python3"
  },
  "language_info": {
   "codemirror_mode": {
    "name": "ipython",
    "version": 3
   },
   "file_extension": ".py",
   "mimetype": "text/x-python",
   "name": "python",
   "nbconvert_exporter": "python",
   "pygments_lexer": "ipython3",
   "version": "3.9.19"
  }
 },
 "nbformat": 4,
 "nbformat_minor": 4
}
