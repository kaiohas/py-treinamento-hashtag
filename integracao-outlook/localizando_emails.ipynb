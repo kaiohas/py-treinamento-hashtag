{
 "cells": [
  {
   "cell_type": "code",
   "execution_count": 2,
   "metadata": {},
   "outputs": [
    {
     "name": "stdout",
     "output_type": "stream",
     "text": [
      "Collecting imap_tools\n",
      "  Downloading imap_tools-1.7.2-py3-none-any.whl (33 kB)\n",
      "Installing collected packages: imap_tools\n",
      "Successfully installed imap_tools-1.7.2\n",
      "Note: you may need to restart the kernel to use updated packages.\n"
     ]
    },
    {
     "name": "stderr",
     "output_type": "stream",
     "text": [
      "\n",
      "[notice] A new release of pip available: 22.3.1 -> 24.2\n",
      "[notice] To update, run: python.exe -m pip install --upgrade pip\n"
     ]
    }
   ],
   "source": [
    "pip install imap_tools"
   ]
  },
  {
   "cell_type": "code",
   "execution_count": 20,
   "metadata": {},
   "outputs": [],
   "source": [
    "from imap_tools import MailBox, AND\n",
    "\n",
    "\n",
    "login = 'kaio.alves123@gmail.com'\n",
    "senha = 'znwc ivdb xiyo lrae'\n",
    "#outlook  imap-mail.outlook.com ou smtp-mail.outlook.com\n",
    "#gmail imap.gmail.com\n",
    "meu_email = MailBox(\"imap.gmail.com\").login(login,senha)\n"
   ]
  },
  {
   "cell_type": "code",
   "execution_count": 23,
   "metadata": {},
   "outputs": [
    {
     "name": "stdout",
     "output_type": "stream",
     "text": [
      "24\n"
     ]
    }
   ],
   "source": [
    "#Pegar email que foram enviados por um remetente especifico\n",
    "lista_emails = meu_email.fetch(AND(from_=\"kaio.siqueira@vertem.com\"))\n",
    "print(len(list(lista_emails)))\n",
    "for email in lista_emails:\n",
    "    print(email.subject)\n",
    "    print(email.text)"
   ]
  },
  {
   "cell_type": "code",
   "execution_count": 26,
   "metadata": {},
   "outputs": [],
   "source": [
    "#pegar anexo de um e-mail\n",
    "lista_emails = meu_email.fetch(AND(from_=\"kaio.siqueira@vertem.com\"))\n",
    "for email in lista_emails:\n",
    "    if len(email.attachments) > 0:\n",
    "        for anexo in email.attachments:\n",
    "            if \"Vendas\" in anexo.filename:\n",
    "                info_anexo = anexo.payload\n",
    "                with open(\"vendas.xlsx\",\"wb\") as arquivo:\n",
    "                    arquivo.write(info_anexo)\n",
    "\n"
   ]
  },
  {
   "cell_type": "code",
   "execution_count": null,
   "metadata": {},
   "outputs": [],
   "source": []
  }
 ],
 "metadata": {
  "kernelspec": {
   "display_name": "Python 3",
   "language": "python",
   "name": "python3"
  },
  "language_info": {
   "codemirror_mode": {
    "name": "ipython",
    "version": 3
   },
   "file_extension": ".py",
   "mimetype": "text/x-python",
   "name": "python",
   "nbconvert_exporter": "python",
   "pygments_lexer": "ipython3",
   "version": "3.11.2"
  }
 },
 "nbformat": 4,
 "nbformat_minor": 2
}
