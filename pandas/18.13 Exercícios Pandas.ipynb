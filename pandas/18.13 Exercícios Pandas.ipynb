{
 "cells": [
  {
   "cell_type": "markdown",
   "metadata": {},
   "source": [
    "# Exercício - Mini Projeto de Análise de Dados\n",
    "\n",
    "Vamos fazer um exercício completo de pandas para um miniprojeto de análise de dados.\n",
    "\n",
    "Esse exercício vai obrigar a gente a usar boa parte dos conhecimento de pandas e até de outros módulos que já aprendemos ao longo do curso.\n",
    "\n",
    "### O que temos?\n",
    "\n",
    "Temos os dados de 2019 de uma empresa de prestação de serviços. \n",
    "\n",
    "- CadastroFuncionarios\n",
    "- CadastroClientes\n",
    "- BaseServiçosPrestados\n",
    "\n",
    "Obs1: Para ler arquivos csv, temos o read_csv<br>\n",
    "Obs2: Para ler arquivos xlsx (arquivos em excel normais, que não são padrão csv), temos o read_excel\n",
    "\n",
    "### O que queremos saber/fazer?\n",
    "\n",
    "1. Valor Total da Folha Salarial -> Qual foi o gasto total com salários de funcionários pela empresa? <br>\n",
    "    Sugestão: calcule o salário total de cada funcionário, salário + benefícios + impostos, depois some todos os salários\n",
    "    \n",
    "    \n",
    "2. Qual foi o faturamento da empresa?<br>\n",
    "    Sugestão: calcule o faturamento total de cada serviço e depois some o faturamento de todos\n",
    "    \n",
    "    \n",
    "3. Qual o % de funcionários que já fechou algum contrato?<br>\n",
    "    Sugestão: na base de serviços temos o funcionário que fechou cada serviço. Mas nem todos os funcionários que a empresa tem já fecharam algum serviço.<br>\n",
    "    . Na base de funcionários temos uma lista com todos os funcionários<br>\n",
    "    . Queremos calcular Qtde_Funcionarios_Fecharam_Serviço / Qtde_Funcionários_Totais<br>\n",
    "    . Para calcular a qtde de funcionários que fecharam algum serviço, use a base de serviços e conte quantos funcionários tem ali. Mas lembre-se, cada funcionário só pode ser contado uma única vez.<br><br>\n",
    "    Dica: se você aplicar o método .unique() em uma variável que é apenas 1 coluna de um dataframe, ele vai excluir todos os valores duplicados daquela coluna.<br>\n",
    "    Ex: unicos_colunaA = dataframe['colunaA'].unique() te dá como resposta uma lista com todos os itens da colunaA aparecendo uma única vez. Todos os valores repetidos da colunaA são excluidos da variável unicos_colunaA \n",
    "    \n",
    "    \n",
    "4. Calcule o total de contratos que cada área da empresa já fechou\n",
    "\n",
    "\n",
    "5. Calcule o total de funcionários por área\n",
    "\n",
    "\n",
    "6. Qual o ticket médio mensal (faturamento médio mensal) dos contratos?<br>\n",
    "    Dica: .mean() calcula a média -> exemplo: media_colunaA = dataframe['colunaA'].mean()\n",
    "\n",
    "Obs: Lembrando as opções mais usuais de encoding:<br>\n",
    "encoding='latin1', encoding='ISO-8859-1', encoding='utf-8' ou então encoding='cp1252'\n",
    "\n",
    "Observação Importante: Se o seu código der um erro na hora de importar os arquivos:<br>\n",
    "- CadastroClientes.csv\n",
    "- CadastroFuncionarios.csv\n",
    "\n",
    "Use separador \";\" (ponto e vírgula) para resolver"
   ]
  },
  {
   "cell_type": "code",
   "execution_count": 2,
   "metadata": {},
   "outputs": [
    {
     "data": {
      "text/html": [
       "<div>\n",
       "<style scoped>\n",
       "    .dataframe tbody tr th:only-of-type {\n",
       "        vertical-align: middle;\n",
       "    }\n",
       "\n",
       "    .dataframe tbody tr th {\n",
       "        vertical-align: top;\n",
       "    }\n",
       "\n",
       "    .dataframe thead th {\n",
       "        text-align: right;\n",
       "    }\n",
       "</style>\n",
       "<table border=\"1\" class=\"dataframe\">\n",
       "  <thead>\n",
       "    <tr style=\"text-align: right;\">\n",
       "      <th></th>\n",
       "      <th>Codigo do Servico</th>\n",
       "      <th>ID Funcionário</th>\n",
       "      <th>ID Cliente</th>\n",
       "      <th>Tempo Total de Contrato (Meses)</th>\n",
       "      <th>Estado Civil</th>\n",
       "      <th>Nome Completo</th>\n",
       "      <th>Salario Base</th>\n",
       "      <th>Impostos</th>\n",
       "      <th>Beneficios</th>\n",
       "      <th>VT</th>\n",
       "      <th>VR</th>\n",
       "      <th>Cargo</th>\n",
       "      <th>Area</th>\n",
       "      <th>Cliente</th>\n",
       "      <th>Valor Contrato Mensal</th>\n",
       "    </tr>\n",
       "  </thead>\n",
       "  <tbody>\n",
       "    <tr>\n",
       "      <th>0</th>\n",
       "      <td>OS0001</td>\n",
       "      <td>67</td>\n",
       "      <td>1</td>\n",
       "      <td>14</td>\n",
       "      <td>C</td>\n",
       "      <td>Carla Amiccuci Areias</td>\n",
       "      <td>12054</td>\n",
       "      <td>6027.0</td>\n",
       "      <td>2410.8</td>\n",
       "      <td>308</td>\n",
       "      <td>829.92</td>\n",
       "      <td>Coordenador</td>\n",
       "      <td>Financeiro</td>\n",
       "      <td>Teixeira Gonçalves</td>\n",
       "      <td>540</td>\n",
       "    </tr>\n",
       "    <tr>\n",
       "      <th>1</th>\n",
       "      <td>OS0002</td>\n",
       "      <td>17</td>\n",
       "      <td>2</td>\n",
       "      <td>12</td>\n",
       "      <td>S</td>\n",
       "      <td>Pedro Carrera</td>\n",
       "      <td>15718</td>\n",
       "      <td>7859.0</td>\n",
       "      <td>3143.6</td>\n",
       "      <td>176</td>\n",
       "      <td>628.32</td>\n",
       "      <td>Coordenador</td>\n",
       "      <td>Logística</td>\n",
       "      <td>Souza Santos</td>\n",
       "      <td>1260</td>\n",
       "    </tr>\n",
       "    <tr>\n",
       "      <th>2</th>\n",
       "      <td>OS0003</td>\n",
       "      <td>116</td>\n",
       "      <td>4</td>\n",
       "      <td>14</td>\n",
       "      <td>C</td>\n",
       "      <td>Bruno Cunha Felippe</td>\n",
       "      <td>21154</td>\n",
       "      <td>10577.0</td>\n",
       "      <td>4230.8</td>\n",
       "      <td>198</td>\n",
       "      <td>792.96</td>\n",
       "      <td>Analista</td>\n",
       "      <td>Logística</td>\n",
       "      <td>Santos Costa</td>\n",
       "      <td>2520</td>\n",
       "    </tr>\n",
       "    <tr>\n",
       "      <th>3</th>\n",
       "      <td>OS0004</td>\n",
       "      <td>37</td>\n",
       "      <td>5</td>\n",
       "      <td>8</td>\n",
       "      <td>C</td>\n",
       "      <td>Marcos Almeida Albuquerque Faria</td>\n",
       "      <td>3398</td>\n",
       "      <td>1699.0</td>\n",
       "      <td>679.6</td>\n",
       "      <td>242</td>\n",
       "      <td>540.96</td>\n",
       "      <td>Analista</td>\n",
       "      <td>Financeiro</td>\n",
       "      <td>Do Monteiro</td>\n",
       "      <td>3510</td>\n",
       "    </tr>\n",
       "    <tr>\n",
       "      <th>4</th>\n",
       "      <td>OS0005</td>\n",
       "      <td>130</td>\n",
       "      <td>6</td>\n",
       "      <td>8</td>\n",
       "      <td>S</td>\n",
       "      <td>Mylena Pinheiro Mariano</td>\n",
       "      <td>5818</td>\n",
       "      <td>2909.0</td>\n",
       "      <td>1163.6</td>\n",
       "      <td>242</td>\n",
       "      <td>598.08</td>\n",
       "      <td>Coordenador</td>\n",
       "      <td>Comercial</td>\n",
       "      <td>Soares Lobo</td>\n",
       "      <td>2340</td>\n",
       "    </tr>\n",
       "  </tbody>\n",
       "</table>\n",
       "</div>"
      ],
      "text/plain": [
       "  Codigo do Servico  ID Funcionário  ID Cliente  \\\n",
       "0            OS0001              67           1   \n",
       "1            OS0002              17           2   \n",
       "2            OS0003             116           4   \n",
       "3            OS0004              37           5   \n",
       "4            OS0005             130           6   \n",
       "\n",
       "   Tempo Total de Contrato (Meses) Estado Civil  \\\n",
       "0                               14            C   \n",
       "1                               12            S   \n",
       "2                               14            C   \n",
       "3                                8            C   \n",
       "4                                8            S   \n",
       "\n",
       "                      Nome Completo  Salario Base  Impostos  Beneficios   VT  \\\n",
       "0             Carla Amiccuci Areias         12054    6027.0      2410.8  308   \n",
       "1                     Pedro Carrera         15718    7859.0      3143.6  176   \n",
       "2               Bruno Cunha Felippe         21154   10577.0      4230.8  198   \n",
       "3  Marcos Almeida Albuquerque Faria          3398    1699.0       679.6  242   \n",
       "4           Mylena Pinheiro Mariano          5818    2909.0      1163.6  242   \n",
       "\n",
       "       VR        Cargo        Area             Cliente  Valor Contrato Mensal  \n",
       "0  829.92  Coordenador  Financeiro  Teixeira Gonçalves                    540  \n",
       "1  628.32  Coordenador   Logística        Souza Santos                   1260  \n",
       "2  792.96     Analista   Logística        Santos Costa                   2520  \n",
       "3  540.96     Analista  Financeiro         Do Monteiro                   3510  \n",
       "4  598.08  Coordenador   Comercial         Soares Lobo                   2340  "
      ]
     },
     "execution_count": 2,
     "metadata": {},
     "output_type": "execute_result"
    }
   ],
   "source": [
    "import pandas as pd\n",
    "clientes_df = pd.read_csv('CadastroClientes.csv',sep=';')\n",
    "clientes_df.head()\n",
    "funcionarios_df = pd.read_csv('CadastroFuncionarios.csv',sep=';',decimal=',')\n",
    "funcionarios_df.head()\n",
    "servicos_df = pd.read_excel('BaseServiçosPrestados.xlsx')\n",
    "servicos_df.head()\n",
    "\n",
    "servicos_df = servicos_df.merge(funcionarios_df,on='ID Funcionário')\n",
    "servicos_df = servicos_df.merge(clientes_df,on='ID Cliente')\n",
    "servicos_df.head()"
   ]
  },
  {
   "cell_type": "code",
   "execution_count": 4,
   "metadata": {},
   "outputs": [
    {
     "name": "stdout",
     "output_type": "stream",
     "text": [
      "2614343.3\n"
     ]
    }
   ],
   "source": [
    "#Valor Total da Folha Salarial -> Qual foi o gasto total com salários de funcionários pela empresa? <br>\n",
    "#Sugestão: calcule o salário total de cada funcionário, salário + benefícios + impostos, depois some todos os salários\n",
    "\n",
    "#funcionarios_df['Salario Total'] = funcionarios_df['Salario Base'] + funcionarios_df['Beneficios']  + funcionarios_df['Impostos']\n",
    "\n",
    "\n",
    "print(funcionarios_df['Salario Total'].sum())"
   ]
  },
  {
   "cell_type": "code",
   "execution_count": 7,
   "metadata": {},
   "outputs": [
    {
     "name": "stdout",
     "output_type": "stream",
     "text": [
      "Faturamento Total: R$5,519,160\n"
     ]
    }
   ],
   "source": [
    "#Qual foi o faturamento da empresa?<br>\n",
    "#Sugestão: calcule o faturamento total de cada serviço e depois some o faturamento de todos\n",
    "servicos_df['Faturamento Total'] = servicos_df['Tempo Total de Contrato (Meses)']*servicos_df['Valor Contrato Mensal']\n",
    "print('Faturamento Total: R${:,}'.format(sum(servicos_df['Faturamento Total'])))\n"
   ]
  },
  {
   "cell_type": "code",
   "execution_count": 22,
   "metadata": {},
   "outputs": [
    {
     "name": "stdout",
     "output_type": "stream",
     "text": [
      "Percentual que fechou foi de: 86.8%\n"
     ]
    }
   ],
   "source": [
    "#3. Qual o % de funcionários que já fechou algum contrato?\n",
    "\n",
    "fun_cServico = len(servicos_df['ID Funcionário'].unique())\n",
    "fun_total =len(funcionarios_df['ID Funcionário'].unique())\n",
    "\n",
    "print(f'Percentual que fechou foi de: {fun_cServico/fun_total:.1%}')"
   ]
  },
  {
   "cell_type": "code",
   "execution_count": 33,
   "metadata": {},
   "outputs": [
    {
     "name": "stdout",
     "output_type": "stream",
     "text": [
      "Area\n",
      "Administrativo    63\n",
      "Operações         48\n",
      "Comercial         44\n",
      "Financeiro        42\n",
      "Logística         40\n",
      "Name: count, dtype: int64\n"
     ]
    }
   ],
   "source": [
    "\n",
    "print(servicos_df['Area'].value_counts())"
   ]
  },
  {
   "cell_type": "code",
   "execution_count": 34,
   "metadata": {},
   "outputs": [
    {
     "name": "stdout",
     "output_type": "stream",
     "text": [
      "Area\n",
      "Administrativo    26\n",
      "Comercial         26\n",
      "Operações         23\n",
      "Logística         21\n",
      "Financeiro        18\n",
      "Name: count, dtype: int64\n"
     ]
    }
   ],
   "source": [
    "print(funcionarios_df['Area'].value_counts())"
   ]
  },
  {
   "cell_type": "code",
   "execution_count": 38,
   "metadata": {},
   "outputs": [
    {
     "name": "stdout",
     "output_type": "stream",
     "text": [
      "2502.5625\n"
     ]
    }
   ],
   "source": [
    "media = clientes_df['Valor Contrato Mensal'].mean()\n",
    "\n",
    "print(media)"
   ]
  },
  {
   "cell_type": "code",
   "execution_count": null,
   "metadata": {},
   "outputs": [],
   "source": []
  }
 ],
 "metadata": {
  "kernelspec": {
   "display_name": "Python 3",
   "language": "python",
   "name": "python3"
  },
  "language_info": {
   "codemirror_mode": {
    "name": "ipython",
    "version": 3
   },
   "file_extension": ".py",
   "mimetype": "text/x-python",
   "name": "python",
   "nbconvert_exporter": "python",
   "pygments_lexer": "ipython3",
   "version": "3.12.1"
  }
 },
 "nbformat": 4,
 "nbformat_minor": 4
}
