{
 "cells": [
  {
   "cell_type": "markdown",
   "id": "0baaa13b",
   "metadata": {},
   "source": [
    "### Consumir dados de uma API"
   ]
  },
  {
   "cell_type": "code",
   "execution_count": 8,
   "id": "dbdd6973",
   "metadata": {},
   "outputs": [],
   "source": [
    "import requests\n",
    "\n",
    "link = \"https://economia.awesomeapi.com.br/last/USD-BRL,EUR-BRL,BTC-BRL\"\n",
    "\n",
    "requisicao = requests.get(link)"
   ]
  },
  {
   "cell_type": "code",
   "execution_count": 2,
   "id": "f60e4ba9",
   "metadata": {},
   "outputs": [
    {
     "name": "stdout",
     "output_type": "stream",
     "text": [
      "{'USDBRL': {'code': 'USD', 'codein': 'BRL', 'name': 'Dólar Americano/Real Brasileiro', 'high': '5.4948', 'low': '5.4375', 'varBid': '-0.0069', 'pctChange': '-0.13', 'bid': '5.4753', 'ask': '5.4763', 'timestamp': '1723841989', 'create_date': '2024-08-16 17:59:49'}, 'EURBRL': {'code': 'EUR', 'codein': 'BRL', 'name': 'Euro/Real Brasileiro', 'high': '6.0346', 'low': '5.9775', 'varBid': '0.021', 'pctChange': '0.35', 'bid': '6.0233', 'ask': '6.0313', 'timestamp': '1723841986', 'create_date': '2024-08-16 17:59:46'}, 'BTCBRL': {'code': 'BTC', 'codein': 'BRL', 'name': 'Bitcoin/Real Brasileiro', 'high': '328512', 'low': '322503', 'varBid': '1946', 'pctChange': '0.6', 'bid': '327059', 'ask': '327114', 'timestamp': '1723918958', 'create_date': '2024-08-17 15:22:38'}}\n"
     ]
    }
   ],
   "source": [
    "print(requisicao.json())"
   ]
  },
  {
   "cell_type": "code",
   "execution_count": 5,
   "id": "4f671504",
   "metadata": {},
   "outputs": [
    {
     "name": "stdout",
     "output_type": "stream",
     "text": [
      "Collecting flask\n",
      "  Downloading flask-3.0.3-py3-none-any.whl (101 kB)\n",
      "     -------------------------------------- 101.7/101.7 kB 1.5 MB/s eta 0:00:00\n",
      "Collecting Werkzeug>=3.0.0\n",
      "  Downloading werkzeug-3.0.3-py3-none-any.whl (227 kB)\n",
      "     -------------------------------------- 227.3/227.3 kB 4.6 MB/s eta 0:00:00\n",
      "Requirement already satisfied: Jinja2>=3.1.2 in c:\\python311\\lib\\site-packages (from flask) (3.1.4)\n",
      "Collecting itsdangerous>=2.1.2\n",
      "  Downloading itsdangerous-2.2.0-py3-none-any.whl (16 kB)\n",
      "Collecting click>=8.1.3\n",
      "  Downloading click-8.1.7-py3-none-any.whl (97 kB)\n",
      "     ---------------------------------------- 97.9/97.9 kB 5.8 MB/s eta 0:00:00\n",
      "Collecting blinker>=1.6.2\n",
      "  Downloading blinker-1.8.2-py3-none-any.whl (9.5 kB)\n",
      "Requirement already satisfied: colorama in c:\\users\\kaio.siqueira\\appdata\\roaming\\python\\python311\\site-packages (from click>=8.1.3->flask) (0.4.6)\n",
      "Requirement already satisfied: MarkupSafe>=2.0 in c:\\python311\\lib\\site-packages (from Jinja2>=3.1.2->flask) (2.1.5)\n",
      "Installing collected packages: Werkzeug, itsdangerous, click, blinker, flask\n",
      "Note: you may need to restart the kernel to use updated packages.\n"
     ]
    },
    {
     "name": "stderr",
     "output_type": "stream",
     "text": [
      "  WARNING: Failed to write executable - trying to use .deleteme logic\n",
      "ERROR: Could not install packages due to an OSError: [WinError 2] The system cannot find the file specified: 'c:\\\\Python311\\\\Scripts\\\\flask.exe' -> 'c:\\\\Python311\\\\Scripts\\\\flask.exe.deleteme'\n",
      "\n",
      "\n",
      "[notice] A new release of pip available: 22.3.1 -> 24.2\n",
      "[notice] To update, run: python.exe -m pip install --upgrade pip\n"
     ]
    }
   ],
   "source": [
    "pip install flask"
   ]
  },
  {
   "cell_type": "code",
   "execution_count": 14,
   "id": "af7dede5",
   "metadata": {},
   "outputs": [
    {
     "name": "stdout",
     "output_type": "stream",
     "text": [
      " * Serving Flask app '__main__'\n",
      " * Debug mode: off\n"
     ]
    },
    {
     "name": "stderr",
     "output_type": "stream",
     "text": [
      "WARNING: This is a development server. Do not use it in a production deployment. Use a production WSGI server instead.\n",
      " * Running on all addresses (0.0.0.0)\n",
      " * Running on http://127.0.0.1:5000\n",
      " * Running on http://192.168.100.207:5000\n",
      "Press CTRL+C to quit\n",
      "127.0.0.1 - - [17/Aug/2024 16:44:13] \"GET / HTTP/1.1\" 200 -\n",
      "127.0.0.1 - - [17/Aug/2024 16:44:27] \"GET / HTTP/1.1\" 200 -\n",
      "127.0.0.1 - - [17/Aug/2024 16:45:10] \"GET /filial_santos HTTP/1.1\" 404 -\n",
      "127.0.0.1 - - [17/Aug/2024 16:45:19] \"GET /nova_filial HTTP/1.1\" 405 -\n",
      "127.0.0.1 - - [17/Aug/2024 16:45:26] \"GET /nova_filial HTTP/1.1\" 405 -\n",
      "127.0.0.1 - - [17/Aug/2024 16:45:32] \"GET / HTTP/1.1\" 200 -\n",
      "127.0.0.1 - - [17/Aug/2024 16:45:48] \"GET /editar/filial_RJ HTTP/1.1\" 405 -\n"
     ]
    },
    {
     "name": "stderr",
     "output_type": "stream",
     "text": [
      "127.0.0.1 - - [17/Aug/2024 16:43:49] \"GET / HTTP/1.1\" 200 -\n"
     ]
    }
   ],
   "source": [
    "from flask import request, Flask       \n",
    "\n",
    "\n",
    "vendas = {\"filial_BH\": 20000, \"filial_SP\": 80000, \"filial_RJ\": 40000}      \n",
    "app = Flask(__name__)      \n",
    "@app.route(\"/\")\n",
    "def consultar_vendas():\n",
    "    return vendas       \n",
    "@app.route(\"/nova_filial\", methods=[\"POST\"])       \n",
    "def criar():\n",
    "    if request.method == \"POST\":\n",
    "        dados = request.form.to_dict()\n",
    "        vendas.update(dados)\n",
    "        return vendas\n",
    "@app.route(\"/editar/<filial>\", methods=[\"PUT\",\"DELETE\"])\n",
    "def editar(filial):\n",
    "    if filial in vendas:\n",
    "        if request.method == \"PUT\":\n",
    "            novos_dados = request.form.to_dict()\n",
    "            vendas[filial] = int(novos_dados.get('novo_valor'))\n",
    "            return vendas\n",
    "        elif request.method == \"DELETE\":\n",
    "            del(vendas[filial])\n",
    "            return vendas\n",
    "        else:\n",
    "            return {\"erro\": \"Filial não encontrada\"}\n",
    "app.run(host = \"0.0.0.0\")"
   ]
  },
  {
   "cell_type": "markdown",
   "id": "fb303b0c",
   "metadata": {},
   "source": [
    "### Criar uma API com Flask"
   ]
  },
  {
   "cell_type": "code",
   "execution_count": 13,
   "id": "13f8e5d1",
   "metadata": {},
   "outputs": [
    {
     "name": "stdout",
     "output_type": "stream",
     "text": [
      " * Serving Flask app '__main__'\n",
      " * Debug mode: off\n"
     ]
    },
    {
     "name": "stderr",
     "output_type": "stream",
     "text": [
      "WARNING: This is a development server. Do not use it in a production deployment. Use a production WSGI server instead.\n",
      " * Running on http://127.0.0.1:5000\n",
      "Press CTRL+C to quit\n",
      "127.0.0.1 - - [17/Aug/2024 16:42:19] \"GET / HTTP/1.1\" 200 -\n",
      "127.0.0.1 - - [17/Aug/2024 16:42:25] \"GET /vendas/produtos HTTP/1.1\" 200 -\n",
      "127.0.0.1 - - [17/Aug/2024 16:42:52] \"GET /vendas/produtos/Polo HTTP/1.1\" 200 -\n"
     ]
    }
   ],
   "source": [
    "from flask import Flask\n",
    "import pandas as pd\n",
    "\n",
    "app = Flask(__name__) # cria o site\n",
    "tabela = pd.read_excel(\"Vendas - Dez.xlsx\")\n",
    "\n",
    "@app.route(\"/\") # decorator -> diz em qual link a função vai rodar\n",
    "def fat(): # função\n",
    "    faturamento = float(tabela[\"Valor Final\"].sum())\n",
    "    return {\"faturamento\": faturamento}\n",
    "\n",
    "@app.route(\"/vendas/produtos\") \n",
    "def vendas_produtos(): \n",
    "    tabela_vendas_produtos = tabela[[\"Produto\", \"Valor Final\"]].groupby(\"Produto\").sum()\n",
    "    dic_vendas_produtos = tabela_vendas_produtos.to_dict()\n",
    "    return dic_vendas_produtos\n",
    "\n",
    "@app.route(\"/vendas/produtos/<produto>\") \n",
    "def fat_produto(produto): \n",
    "    tabela_vendas_produtos = tabela[[\"Produto\", \"Valor Final\"]].groupby(\"Produto\").sum()\n",
    "    if produto in tabela_vendas_produtos.index:\n",
    "        vendas_produto = tabela_vendas_produtos.loc[produto]\n",
    "        dic_vendas_produto = vendas_produto.to_dict()\n",
    "        return dic_vendas_produto\n",
    "    else:\n",
    "        return {produto: \"Inexistente\"}\n",
    "    \n",
    "app.run() # no replit use app.run(host=\"0.0.0.0\") # coloca o site no ar"
   ]
  },
  {
   "cell_type": "code",
   "execution_count": 12,
   "id": "71f7f184",
   "metadata": {},
   "outputs": [
    {
     "name": "stdout",
     "output_type": "stream",
     "text": [
      " * Serving Flask app '__main__'\n",
      " * Debug mode: off\n"
     ]
    },
    {
     "name": "stderr",
     "output_type": "stream",
     "text": [
      "WARNING: This is a development server. Do not use it in a production deployment. Use a production WSGI server instead.\n",
      " * Running on http://127.0.0.1:5000\n",
      "Press CTRL+C to quit\n",
      "127.0.0.1 - - [17/Aug/2024 16:35:08] \"GET / HTTP/1.1\" 200 -\n",
      "127.0.0.1 - - [17/Aug/2024 16:35:15] \"GET /teste2 HTTP/1.1\" 200 -\n"
     ]
    }
   ],
   "source": [
    "from flask import Flask\n",
    "\n",
    "app = Flask(__name__)\n",
    "\n",
    "@app.route(\"/\")\n",
    "def inicial():\n",
    "    return {\"ChaveTeste\":\"Teste\",\"Teste2\":\"Teste2\"}\n",
    "\n",
    "@app.route(\"/teste2\")\n",
    "def teste():\n",
    "    return {\"ChaveTeste\":\"Teste\",\"Teste2\":\"Teste2\"}\n",
    "\n",
    "app.run(host=\"0.0.0.0.0\")\n"
   ]
  },
  {
   "cell_type": "code",
   "execution_count": null,
   "id": "bd7a7fe4",
   "metadata": {},
   "outputs": [],
   "source": []
  }
 ],
 "metadata": {
  "kernelspec": {
   "display_name": "Python 3",
   "language": "python",
   "name": "python3"
  },
  "language_info": {
   "codemirror_mode": {
    "name": "ipython",
    "version": 3
   },
   "file_extension": ".py",
   "mimetype": "text/x-python",
   "name": "python",
   "nbconvert_exporter": "python",
   "pygments_lexer": "ipython3",
   "version": "3.11.2"
  }
 },
 "nbformat": 4,
 "nbformat_minor": 5
}
