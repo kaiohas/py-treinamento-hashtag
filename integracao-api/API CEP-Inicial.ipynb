{
 "cells": [
  {
   "cell_type": "markdown",
   "id": "7e57525e",
   "metadata": {},
   "source": [
    "### Via CEP\n",
    "\n",
    "https://viacep.com.br/"
   ]
  },
  {
   "cell_type": "markdown",
   "id": "84f1d631",
   "metadata": {},
   "source": [
    "#### Consulta de informações de um CEP"
   ]
  },
  {
   "cell_type": "code",
   "execution_count": 2,
   "id": "fe813e51",
   "metadata": {},
   "outputs": [
    {
     "name": "stdout",
     "output_type": "stream",
     "text": [
      "{'cep': '38414-313', 'logradouro': 'Rua Oscar Bernardes da Costa', 'complemento': '', 'unidade': '', 'bairro': 'Luizote de Freitas', 'localidade': 'Uberlândia', 'uf': 'MG', 'ibge': '3170206', 'gia': '', 'ddd': '34', 'siafi': '5403'}\n"
     ]
    }
   ],
   "source": [
    "import requests\n",
    "\n",
    "\n",
    "cep=\"38414313\"\n",
    "\n",
    "link = f\"https://viacep.com.br/ws/{cep}/json/\"\n",
    "\n",
    "site  = requests.get(link)\n",
    "retorno = site.json()\n",
    "print(retorno)"
   ]
  },
  {
   "cell_type": "markdown",
   "id": "0abd6940",
   "metadata": {},
   "source": [
    "#### Busca de CEP a partir de endereço"
   ]
  },
  {
   "cell_type": "code",
   "execution_count": 7,
   "id": "270edfa9",
   "metadata": {},
   "outputs": [
    {
     "name": "stdout",
     "output_type": "stream",
     "text": [
      "Luizote de Freitas Uberlândia\n",
      "Dona Zulmira Uberlândia\n",
      "Muribeca Jaboatão dos Guararapes\n"
     ]
    }
   ],
   "source": [
    "ceps = [\"38.414-313\",\"38415 042\",\"54360471\"]\n",
    "link = f\"https://viacep.com.br/ws/{cep}/json/\"\n",
    "for i in ceps:\n",
    "    i = i.replace(\".\",\"\").replace(\"-\",\"\").replace(\" \",\"\")\n",
    "    if len(i) == 8:\n",
    "        link = f\"https://viacep.com.br/ws/{i}/json/\"\n",
    "        site  = requests.get(link)\n",
    "        retorno = site.json()\n",
    "        print(retorno['bairro'],retorno[\"localidade\"])\n",
    "    else:\n",
    "        print(\"Cep Invalido\")\n",
    "\n"
   ]
  },
  {
   "cell_type": "code",
   "execution_count": 20,
   "id": "a5df1716",
   "metadata": {},
   "outputs": [
    {
     "name": "stdout",
     "output_type": "stream",
     "text": [
      "[{'cep': '38401-078', 'logradouro': 'Rua Oscar Machado', 'complemento': '', 'unidade': '', 'bairro': 'Presidente Roosevelt', 'localidade': 'Uberlândia', 'uf': 'MG', 'ibge': '3170206', 'gia': '', 'ddd': '34', 'siafi': '5403'}, {'cep': '38408-336', 'logradouro': 'Avenida Oscar Miranda', 'complemento': '', 'unidade': '', 'bairro': 'Segismundo Pereira', 'localidade': 'Uberlândia', 'uf': 'MG', 'ibge': '3170206', 'gia': '', 'ddd': '34', 'siafi': '5403'}, {'cep': '38405-370', 'logradouro': 'Rua Oscar Mendes de Lima', 'complemento': '', 'unidade': '', 'bairro': 'Alto Umuarama', 'localidade': 'Uberlândia', 'uf': 'MG', 'ibge': '3170206', 'gia': '', 'ddd': '34', 'siafi': '5403'}, {'cep': '38414-313', 'logradouro': 'Rua Oscar Bernardes da Costa', 'complemento': '', 'unidade': '', 'bairro': 'Luizote de Freitas', 'localidade': 'Uberlândia', 'uf': 'MG', 'ibge': '3170206', 'gia': '', 'ddd': '34', 'siafi': '5403'}, {'cep': '38411-102', 'logradouro': 'Avenida Oscarina Cunha Chaves', 'complemento': '', 'unidade': '', 'bairro': 'Patrimônio', 'localidade': 'Uberlândia', 'uf': 'MG', 'ibge': '3170206', 'gia': '', 'ddd': '34', 'siafi': '5403'}, {'cep': '38412-044', 'logradouro': 'Rua Oscar Gomes Moreira Júnior', 'complemento': '', 'unidade': '', 'bairro': 'Tubalina', 'localidade': 'Uberlândia', 'uf': 'MG', 'ibge': '3170206', 'gia': '', 'ddd': '34', 'siafi': '5403'}]\n"
     ]
    }
   ],
   "source": [
    "uf = \"MG\"\n",
    "cidade = \"Uberlândia\"\n",
    "endereco = \"Oscar\"\n",
    "\n",
    "link = f'https://viacep.com.br/ws/{uf}/{cidade}/{endereco}/json/'\n",
    "\n",
    "requisicao = requests.get(link)\n",
    "requisicao = requisicao.json()\n",
    "print(requisicao)"
   ]
  },
  {
   "cell_type": "code",
   "execution_count": 21,
   "id": "fea63189",
   "metadata": {},
   "outputs": [
    {
     "data": {
      "text/html": [
       "<div>\n",
       "<style scoped>\n",
       "    .dataframe tbody tr th:only-of-type {\n",
       "        vertical-align: middle;\n",
       "    }\n",
       "\n",
       "    .dataframe tbody tr th {\n",
       "        vertical-align: top;\n",
       "    }\n",
       "\n",
       "    .dataframe thead th {\n",
       "        text-align: right;\n",
       "    }\n",
       "</style>\n",
       "<table border=\"1\" class=\"dataframe\">\n",
       "  <thead>\n",
       "    <tr style=\"text-align: right;\">\n",
       "      <th></th>\n",
       "      <th>cep</th>\n",
       "      <th>logradouro</th>\n",
       "      <th>complemento</th>\n",
       "      <th>unidade</th>\n",
       "      <th>bairro</th>\n",
       "      <th>localidade</th>\n",
       "      <th>uf</th>\n",
       "      <th>ibge</th>\n",
       "      <th>gia</th>\n",
       "      <th>ddd</th>\n",
       "      <th>siafi</th>\n",
       "    </tr>\n",
       "  </thead>\n",
       "  <tbody>\n",
       "    <tr>\n",
       "      <th>0</th>\n",
       "      <td>38401-078</td>\n",
       "      <td>Rua Oscar Machado</td>\n",
       "      <td></td>\n",
       "      <td></td>\n",
       "      <td>Presidente Roosevelt</td>\n",
       "      <td>Uberlândia</td>\n",
       "      <td>MG</td>\n",
       "      <td>3170206</td>\n",
       "      <td></td>\n",
       "      <td>34</td>\n",
       "      <td>5403</td>\n",
       "    </tr>\n",
       "    <tr>\n",
       "      <th>1</th>\n",
       "      <td>38408-336</td>\n",
       "      <td>Avenida Oscar Miranda</td>\n",
       "      <td></td>\n",
       "      <td></td>\n",
       "      <td>Segismundo Pereira</td>\n",
       "      <td>Uberlândia</td>\n",
       "      <td>MG</td>\n",
       "      <td>3170206</td>\n",
       "      <td></td>\n",
       "      <td>34</td>\n",
       "      <td>5403</td>\n",
       "    </tr>\n",
       "    <tr>\n",
       "      <th>2</th>\n",
       "      <td>38405-370</td>\n",
       "      <td>Rua Oscar Mendes de Lima</td>\n",
       "      <td></td>\n",
       "      <td></td>\n",
       "      <td>Alto Umuarama</td>\n",
       "      <td>Uberlândia</td>\n",
       "      <td>MG</td>\n",
       "      <td>3170206</td>\n",
       "      <td></td>\n",
       "      <td>34</td>\n",
       "      <td>5403</td>\n",
       "    </tr>\n",
       "    <tr>\n",
       "      <th>3</th>\n",
       "      <td>38414-313</td>\n",
       "      <td>Rua Oscar Bernardes da Costa</td>\n",
       "      <td></td>\n",
       "      <td></td>\n",
       "      <td>Luizote de Freitas</td>\n",
       "      <td>Uberlândia</td>\n",
       "      <td>MG</td>\n",
       "      <td>3170206</td>\n",
       "      <td></td>\n",
       "      <td>34</td>\n",
       "      <td>5403</td>\n",
       "    </tr>\n",
       "    <tr>\n",
       "      <th>4</th>\n",
       "      <td>38411-102</td>\n",
       "      <td>Avenida Oscarina Cunha Chaves</td>\n",
       "      <td></td>\n",
       "      <td></td>\n",
       "      <td>Patrimônio</td>\n",
       "      <td>Uberlândia</td>\n",
       "      <td>MG</td>\n",
       "      <td>3170206</td>\n",
       "      <td></td>\n",
       "      <td>34</td>\n",
       "      <td>5403</td>\n",
       "    </tr>\n",
       "    <tr>\n",
       "      <th>5</th>\n",
       "      <td>38412-044</td>\n",
       "      <td>Rua Oscar Gomes Moreira Júnior</td>\n",
       "      <td></td>\n",
       "      <td></td>\n",
       "      <td>Tubalina</td>\n",
       "      <td>Uberlândia</td>\n",
       "      <td>MG</td>\n",
       "      <td>3170206</td>\n",
       "      <td></td>\n",
       "      <td>34</td>\n",
       "      <td>5403</td>\n",
       "    </tr>\n",
       "  </tbody>\n",
       "</table>\n",
       "</div>"
      ],
      "text/plain": [
       "         cep                      logradouro complemento unidade  \\\n",
       "0  38401-078               Rua Oscar Machado                       \n",
       "1  38408-336           Avenida Oscar Miranda                       \n",
       "2  38405-370        Rua Oscar Mendes de Lima                       \n",
       "3  38414-313    Rua Oscar Bernardes da Costa                       \n",
       "4  38411-102   Avenida Oscarina Cunha Chaves                       \n",
       "5  38412-044  Rua Oscar Gomes Moreira Júnior                       \n",
       "\n",
       "                 bairro  localidade  uf     ibge gia ddd siafi  \n",
       "0  Presidente Roosevelt  Uberlândia  MG  3170206      34  5403  \n",
       "1    Segismundo Pereira  Uberlândia  MG  3170206      34  5403  \n",
       "2         Alto Umuarama  Uberlândia  MG  3170206      34  5403  \n",
       "3    Luizote de Freitas  Uberlândia  MG  3170206      34  5403  \n",
       "4            Patrimônio  Uberlândia  MG  3170206      34  5403  \n",
       "5              Tubalina  Uberlândia  MG  3170206      34  5403  "
      ]
     },
     "execution_count": 21,
     "metadata": {},
     "output_type": "execute_result"
    }
   ],
   "source": [
    "import pandas as pd\n",
    "\n",
    "tabela = pd.DataFrame(requisicao)\n",
    "tabela"
   ]
  },
  {
   "cell_type": "code",
   "execution_count": null,
   "id": "f43a49f4",
   "metadata": {},
   "outputs": [],
   "source": []
  }
 ],
 "metadata": {
  "kernelspec": {
   "display_name": "Python 3 (ipykernel)",
   "language": "python",
   "name": "python3"
  },
  "language_info": {
   "codemirror_mode": {
    "name": "ipython",
    "version": 3
   },
   "file_extension": ".py",
   "mimetype": "text/x-python",
   "name": "python",
   "nbconvert_exporter": "python",
   "pygments_lexer": "ipython3",
   "version": "3.11.2"
  }
 },
 "nbformat": 4,
 "nbformat_minor": 5
}
