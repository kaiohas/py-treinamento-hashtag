{
 "cells": [
  {
   "cell_type": "markdown",
   "id": "7e57525e",
   "metadata": {},
   "source": [
    "### Via CEP\n",
    "\n",
    "https://viacep.com.br/"
   ]
  },
  {
   "cell_type": "markdown",
   "id": "84f1d631",
   "metadata": {},
   "source": [
    "#### Consulta de informações de um CEP"
   ]
  },
  {
   "cell_type": "markdown",
   "id": "0abd6940",
   "metadata": {},
   "source": [
    "#### Busca de CEP a partir de endereço"
   ]
  },
  {
   "cell_type": "code",
   "execution_count": 4,
   "id": "a5df1716",
   "metadata": {},
   "outputs": [],
   "source": [
    "import requests\n",
    "import os\n",
    "\n",
    "uf = \"MG\"\n",
    "cidade = \"Uberlândia\"\n",
    "endereco = \"Oscar\"\n",
    "\n",
    "link = f'https://viacep.com.br/ws/{uf}/{cidade}/{endereco}/json/'\n",
    "\n",
    "requisicao = requests.get(link)\n",
    "requisicao = requisicao.json()\n"
   ]
  },
  {
   "cell_type": "code",
   "execution_count": 7,
   "id": "fea63189",
   "metadata": {},
   "outputs": [
    {
     "name": "stderr",
     "output_type": "stream",
     "text": [
      "<>:4: SyntaxWarning: invalid escape sequence '\\c'\n",
      "<>:4: SyntaxWarning: invalid escape sequence '\\c'\n",
      "C:\\Users\\Pichau\\AppData\\Local\\Temp\\ipykernel_10128\\4159197744.py:4: SyntaxWarning: invalid escape sequence '\\c'\n",
      "  tabela.to_csv(caminho +\"\\ceps.csv\")\n"
     ]
    }
   ],
   "source": [
    "import pandas as pd\n",
    "caminho = os.getcwd()\n",
    "tabela = pd.DataFrame(requisicao)\n",
    "tabela.to_csv(caminho +\"\\ceps.csv\")"
   ]
  },
  {
   "cell_type": "code",
   "execution_count": null,
   "id": "f43a49f4",
   "metadata": {},
   "outputs": [],
   "source": []
  }
 ],
 "metadata": {
  "kernelspec": {
   "display_name": "Python 3 (ipykernel)",
   "language": "python",
   "name": "python3"
  },
  "language_info": {
   "codemirror_mode": {
    "name": "ipython",
    "version": 3
   },
   "file_extension": ".py",
   "mimetype": "text/x-python",
   "name": "python",
   "nbconvert_exporter": "python",
   "pygments_lexer": "ipython3",
   "version": "3.12.1"
  }
 },
 "nbformat": 4,
 "nbformat_minor": 5
}
