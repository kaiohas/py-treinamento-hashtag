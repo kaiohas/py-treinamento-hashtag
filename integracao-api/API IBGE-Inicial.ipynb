{
 "cells": [
  {
   "cell_type": "markdown",
   "id": "ad2d00dc",
   "metadata": {},
   "source": [
    "### API IBGE\n",
    "\n",
    "https://servicodados.ibge.gov.br/api/docs"
   ]
  },
  {
   "cell_type": "code",
   "execution_count": 40,
   "id": "17ec9d9f",
   "metadata": {},
   "outputs": [
    {
     "name": "stdout",
     "output_type": "stream",
     "text": [
      "Número de estabelecimentos agropecuários com suínos\n",
      "[{'localidade': {'id': '1', 'nivel': {'id': 'N1', 'nome': 'Brasil'}, 'nome': 'Brasil'}, 'serie': {'2006': '1496422'}}]\n"
     ]
    }
   ],
   "source": [
    "import requests\n",
    "import json\n",
    "import pprint\n",
    "import pandas as pd\n",
    "link = 'https://servicodados.ibge.gov.br/api/v3/agregados/4112/periodos/2006/variaveis/2586?localidades=N1[all]'\n",
    "\n",
    "site = requests.get(link)\n",
    "data  = site.json()\n",
    "#df = pd.DataFrame().from_records(data[0]['resultados'][0]['series'])\n",
    "\n",
    "variavel = data[0]['variavel']\n",
    "serie = data[0]['resultados'][0][\"series\"]\n",
    "\n",
    "\n",
    "print(variavel)\n",
    "print(serie)"
   ]
  },
  {
   "cell_type": "code",
   "execution_count": 41,
   "id": "14ac5b4f",
   "metadata": {},
   "outputs": [
    {
     "name": "stdout",
     "output_type": "stream",
     "text": [
      "Número de espécies da fauna e da flora brasileira avaliadas quanto ao risco de extinção\n",
      "[{'localidade': {'id': '1', 'nivel': {'id': 'N1', 'nome': 'Brasil'}, 'nome': 'Brasil'}, 'serie': {'2014': '16645'}}]\n"
     ]
    }
   ],
   "source": [
    "import requests\n",
    "import json\n",
    "import pprint\n",
    "import pandas as pd\n",
    "link = 'https://servicodados.ibge.gov.br/api/v3/agregados/7392/periodos/2014/variaveis/10484?localidades=N1[all]'\n",
    "\n",
    "site = requests.get(link)\n",
    "data  = site.json()\n",
    "#df = pd.DataFrame().from_records(data[0]['resultados'][0]['series'])\n",
    "\n",
    "variavel = data[0]['variavel']\n",
    "serie = data[0]['resultados'][0][\"series\"]\n",
    "\n",
    "\n",
    "print(variavel)\n",
    "print(serie)"
   ]
  }
 ],
 "metadata": {
  "kernelspec": {
   "display_name": "Python 3 (ipykernel)",
   "language": "python",
   "name": "python3"
  },
  "language_info": {
   "codemirror_mode": {
    "name": "ipython",
    "version": 3
   },
   "file_extension": ".py",
   "mimetype": "text/x-python",
   "name": "python",
   "nbconvert_exporter": "python",
   "pygments_lexer": "ipython3",
   "version": "3.11.2"
  }
 },
 "nbformat": 4,
 "nbformat_minor": 5
}
