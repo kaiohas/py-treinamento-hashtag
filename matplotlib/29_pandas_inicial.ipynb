{
 "cells": [
  {
   "cell_type": "markdown",
   "metadata": {},
   "source": [
    "# Matplotlib e Pandas\n",
    "\n",
    "O Pandas é uma biblioteca que permite a manipulação de dados de forma simples e eficiente. Ela é construída sobre o NumPy e permite a manipulação de dados de forma simples e eficiente. Quanto a gráficos, o Pandas utiliza o Matplotlib como base para a geração de gráficos.\n",
    "\n"
   ]
  },
  {
   "cell_type": "markdown",
   "metadata": {},
   "source": [
    "## Base de dados utilizada\n",
    "\n",
    "Para este notebook, utilizaremos a base de dados do top 10 IBOV de maio a agosto de 2023. A base de dados foi obtida no site do Yahoo Finance. O IBOV é o índice da Bovespa, que é a bolsa de valores brasileira. O IBOV é composto pelas ações mais negociadas na bolsa de valores brasileira. Para compor o IBOV, é feito um cálculo de ponderação das ações, onde as ações mais negociadas possuem maior peso no índice. O IBOV é um índice que é utilizado para medir o desempenho médio das cotações das ações mais negociadas na bolsa de valores brasileira.\n",
    "\n",
    "Este material é didático e não tem como objetivo a recomendação de compra ou venda de ativos.\n",
    "\n",
    "Sobre as ações seguem os nomes referentes a cada uma delas e seus respectivos setores:\n",
    "\n",
    "Código | Nome | Setor\n",
    "--- | --- | ---\n",
    " VALE3 | Vale | Mineração\n",
    " ELET3 | Eletrobras | Energia Elétrica\n",
    " BBAS3 | Banco do Brasil | Bancário\n",
    " B3SA3 | B3 | Financeiro\n",
    " ABEV3 | Ambev | Bebidas\n",
    " ITUB4 | Itaú Unibanco | Bancário\n",
    " BBDC4 | Bradesco | Bancário\n",
    " WEGE3 | Weg | Máquinas e Equipamentos\n",
    " PETR3 | Petrobras | Petróleo, Gás e Biocombustíveis\n",
    " RENT3 | Localiza | Locação de Veículos"
   ]
  },
  {
   "cell_type": "code",
   "execution_count": null,
   "metadata": {
    "ExecuteTime": {
     "end_time": "2023-07-24T13:35:02.011876100Z",
     "start_time": "2023-07-24T13:35:01.393084600Z"
    },
    "tags": []
   },
   "outputs": [],
   "source": [
    "import pandas as pd\n",
    "\n",
    "ARQUIVO_TOP_10_IBOV = 'top_10_ibov_mai_ago_2023.csv'\n",
    "\n",
    "df_top_10_ibov = pd.read_csv(ARQUIVO_TOP_10_IBOV)\n",
    "df_top_10_ibov.head()"
   ]
  },
  {
   "cell_type": "code",
   "execution_count": null,
   "metadata": {},
   "outputs": [],
   "source": []
  }
 ],
 "metadata": {
  "kernelspec": {
   "display_name": "Python 3 (ipykernel)",
   "language": "python",
   "name": "python3"
  },
  "language_info": {
   "codemirror_mode": {
    "name": "ipython",
    "version": 3
   },
   "file_extension": ".py",
   "mimetype": "text/x-python",
   "name": "python",
   "nbconvert_exporter": "python",
   "pygments_lexer": "ipython3",
   "version": "3.10.11"
  }
 },
 "nbformat": 4,
 "nbformat_minor": 4
}
