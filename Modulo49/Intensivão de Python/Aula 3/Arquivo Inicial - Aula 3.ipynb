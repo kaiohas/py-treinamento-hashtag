{
 "cells": [
  {
   "cell_type": "markdown",
   "metadata": {},
   "source": [
    "# Automação Web e Busca de Informações com Python\n",
    "\n",
    "#### Desafio: \n",
    "\n",
    "Trabalhamos em uma importadora e o preço dos nossos produtos é vinculado a cotação de:\n",
    "- Dólar\n",
    "- Euro\n",
    "- Ouro\n",
    "\n",
    "Precisamos pegar na internet, de forma automática, a cotação desses 3 itens e saber quanto devemos cobrar pelos nossos produtos, considerando uma margem de contribuição que temos na nossa base de dados.\n",
    "\n",
    "Base de Dados: https://drive.google.com/drive/folders/1KmAdo593nD8J9QBaZxPOG1yxHZua4Rtv?usp=sharing\n",
    "\n",
    "Para isso, vamos criar uma automação web:\n",
    "\n",
    "- Usaremos o selenium\n",
    "- Importante: baixar o webdriver"
   ]
  },
  {
   "cell_type": "code",
   "execution_count": 55,
   "metadata": {},
   "outputs": [],
   "source": [
    "# from selenium import webdriver\n",
    "# from selenium.webdriver.common.keys import Keys\n",
    "# from selenium.webdriver.common.by import By\n",
    "\n",
    "\n",
    "# navegador = webdriver.Chrome()"
   ]
  },
  {
   "cell_type": "code",
   "execution_count": 56,
   "metadata": {},
   "outputs": [],
   "source": [
    "from selenium import webdriver\n",
    "from selenium.webdriver.chrome.service import Service\n",
    "from webdriver_manager.chrome import ChromeDriverManager\n",
    "from selenium.webdriver.common.keys import Keys\n",
    "from selenium.webdriver.common.by import By\n",
    "moedas = ['Dólar','Euro']\n",
    "servico = Service(ChromeDriverManager().install())\n",
    "navegador = webdriver.Chrome(service=servico)\n",
    "\n",
    "dic = {}\n",
    "for moeda in moedas:\n",
    "    navegador.get('https://www.google.com/')\n",
    "    navegador.find_element(By.XPATH,'//*[@id=\"APjFqb\"]').send_keys(f'Cotação {moeda}')\n",
    "    navegador.find_element(By.XPATH,'//*[@id=\"APjFqb\"]').send_keys(Keys.ENTER)\n",
    "    valor = navegador.find_element(\n",
    "        By.XPATH,'//*[@id=\"knowledge-currency__updatable-data-column\"]/div[1]/div[2]/span[1]').get_attribute('data-value')\n",
    "    valor = float(valor)\n",
    "    dic[moeda] = valor\n",
    "    #print(f\"{moeda}: {valor:.2f}\")\n",
    "\n",
    "navegador.get('https://www.melhorcambio.com/ouro-hoje')    \n",
    "valor = navegador.find_element(By.XPATH,'//*[@id=\"comercial\"]').get_attribute('value')\n",
    "valor = valor.replace(',','.')\n",
    "dic[\"Ouro\"] = float(valor)\n",
    "#print(f\"Ouro: {valor}\")\n",
    "\n",
    "navegador.quit()"
   ]
  },
  {
   "cell_type": "code",
   "execution_count": null,
   "metadata": {},
   "outputs": [],
   "source": []
  },
  {
   "cell_type": "code",
   "execution_count": null,
   "metadata": {},
   "outputs": [],
   "source": []
  },
  {
   "cell_type": "code",
   "execution_count": null,
   "metadata": {},
   "outputs": [],
   "source": []
  },
  {
   "cell_type": "markdown",
   "metadata": {},
   "source": [
    "### Agora vamos atualiza a nossa base de preços com as novas cotações"
   ]
  },
  {
   "cell_type": "markdown",
   "metadata": {},
   "source": [
    "- Importando a base de dados"
   ]
  },
  {
   "cell_type": "code",
   "execution_count": 57,
   "metadata": {
    "scrolled": true
   },
   "outputs": [],
   "source": [
    "import pandas as pd\n",
    "df = pd.read_excel('Produtos.xlsx')\n"
   ]
  },
  {
   "cell_type": "markdown",
   "metadata": {},
   "source": [
    "- Atualizando os preços e o cálculo do Preço Final"
   ]
  },
  {
   "cell_type": "code",
   "execution_count": 58,
   "metadata": {},
   "outputs": [
    {
     "data": {
      "text/html": [
       "<div>\n",
       "<style scoped>\n",
       "    .dataframe tbody tr th:only-of-type {\n",
       "        vertical-align: middle;\n",
       "    }\n",
       "\n",
       "    .dataframe tbody tr th {\n",
       "        vertical-align: top;\n",
       "    }\n",
       "\n",
       "    .dataframe thead th {\n",
       "        text-align: right;\n",
       "    }\n",
       "</style>\n",
       "<table border=\"1\" class=\"dataframe\">\n",
       "  <thead>\n",
       "    <tr style=\"text-align: right;\">\n",
       "      <th></th>\n",
       "      <th>Produtos</th>\n",
       "      <th>Preço Original</th>\n",
       "      <th>Moeda</th>\n",
       "      <th>Cotação</th>\n",
       "      <th>Preço de Compra</th>\n",
       "      <th>Margem</th>\n",
       "      <th>Preço de Venda</th>\n",
       "    </tr>\n",
       "  </thead>\n",
       "  <tbody>\n",
       "    <tr>\n",
       "      <th>0</th>\n",
       "      <td>Câmera Canon</td>\n",
       "      <td>999.99</td>\n",
       "      <td>Dólar</td>\n",
       "      <td>5.4257</td>\n",
       "      <td>5425.645743</td>\n",
       "      <td>1.40</td>\n",
       "      <td>7595.904040</td>\n",
       "    </tr>\n",
       "    <tr>\n",
       "      <th>1</th>\n",
       "      <td>Carro Renault</td>\n",
       "      <td>4500.00</td>\n",
       "      <td>Euro</td>\n",
       "      <td>6.0550</td>\n",
       "      <td>27247.499163</td>\n",
       "      <td>2.00</td>\n",
       "      <td>54494.998326</td>\n",
       "    </tr>\n",
       "    <tr>\n",
       "      <th>2</th>\n",
       "      <td>Notebook Dell</td>\n",
       "      <td>899.99</td>\n",
       "      <td>Dólar</td>\n",
       "      <td>5.4257</td>\n",
       "      <td>4883.075743</td>\n",
       "      <td>1.70</td>\n",
       "      <td>8301.228763</td>\n",
       "    </tr>\n",
       "    <tr>\n",
       "      <th>3</th>\n",
       "      <td>IPhone</td>\n",
       "      <td>799.00</td>\n",
       "      <td>Dólar</td>\n",
       "      <td>5.4257</td>\n",
       "      <td>4335.134300</td>\n",
       "      <td>1.70</td>\n",
       "      <td>7369.728310</td>\n",
       "    </tr>\n",
       "    <tr>\n",
       "      <th>4</th>\n",
       "      <td>Carro Fiat</td>\n",
       "      <td>3000.00</td>\n",
       "      <td>Euro</td>\n",
       "      <td>6.0550</td>\n",
       "      <td>18164.999442</td>\n",
       "      <td>1.90</td>\n",
       "      <td>34513.498940</td>\n",
       "    </tr>\n",
       "    <tr>\n",
       "      <th>5</th>\n",
       "      <td>Celular Xiaomi</td>\n",
       "      <td>480.48</td>\n",
       "      <td>Dólar</td>\n",
       "      <td>5.4257</td>\n",
       "      <td>2606.940336</td>\n",
       "      <td>2.00</td>\n",
       "      <td>5213.880672</td>\n",
       "    </tr>\n",
       "    <tr>\n",
       "      <th>6</th>\n",
       "      <td>Joia 20g</td>\n",
       "      <td>20.00</td>\n",
       "      <td>Ouro</td>\n",
       "      <td>455.5500</td>\n",
       "      <td>9111.000000</td>\n",
       "      <td>1.15</td>\n",
       "      <td>10477.650000</td>\n",
       "    </tr>\n",
       "  </tbody>\n",
       "</table>\n",
       "</div>"
      ],
      "text/plain": [
       "         Produtos  Preço Original  Moeda   Cotação  Preço de Compra  Margem  \\\n",
       "0    Câmera Canon          999.99  Dólar    5.4257      5425.645743    1.40   \n",
       "1   Carro Renault         4500.00   Euro    6.0550     27247.499163    2.00   \n",
       "2   Notebook Dell          899.99  Dólar    5.4257      4883.075743    1.70   \n",
       "3          IPhone          799.00  Dólar    5.4257      4335.134300    1.70   \n",
       "4      Carro Fiat         3000.00   Euro    6.0550     18164.999442    1.90   \n",
       "5  Celular Xiaomi          480.48  Dólar    5.4257      2606.940336    2.00   \n",
       "6        Joia 20g           20.00   Ouro  455.5500      9111.000000    1.15   \n",
       "\n",
       "   Preço de Venda  \n",
       "0     7595.904040  \n",
       "1    54494.998326  \n",
       "2     8301.228763  \n",
       "3     7369.728310  \n",
       "4    34513.498940  \n",
       "5     5213.880672  \n",
       "6    10477.650000  "
      ]
     },
     "execution_count": 58,
     "metadata": {},
     "output_type": "execute_result"
    }
   ],
   "source": [
    "df.loc[df['Moeda']==\"Dólar\",\"Cotação\"] = dic['Dólar']\n",
    "df.loc[df['Moeda']==\"Euro\",\"Cotação\"] = dic['Euro']\n",
    "df.loc[df['Moeda']==\"Ouro\",\"Cotação\"] = dic['Ouro']\n",
    "df['Preço de Compra'] = df['Preço Original'] * df['Cotação']\n",
    "df['Preço de Venda'] = df['Preço de Compra'] * df['Margem']\n",
    "df"
   ]
  },
  {
   "cell_type": "markdown",
   "metadata": {},
   "source": [
    "### Agora vamos exportar a nova base de preços atualizada"
   ]
  },
  {
   "cell_type": "code",
   "execution_count": null,
   "metadata": {},
   "outputs": [],
   "source": []
  }
 ],
 "metadata": {
  "kernelspec": {
   "display_name": "Python 3 (ipykernel)",
   "language": "python",
   "name": "python3"
  },
  "language_info": {
   "codemirror_mode": {
    "name": "ipython",
    "version": 3
   },
   "file_extension": ".py",
   "mimetype": "text/x-python",
   "name": "python",
   "nbconvert_exporter": "python",
   "pygments_lexer": "ipython3",
   "version": "3.9.12"
  }
 },
 "nbformat": 4,
 "nbformat_minor": 4
}
