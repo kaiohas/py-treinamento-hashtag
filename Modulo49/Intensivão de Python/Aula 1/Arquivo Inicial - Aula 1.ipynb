{
 "cells": [
  {
   "cell_type": "markdown",
   "metadata": {},
   "source": [
    "# Automação de Sistemas e Processos com Python\n",
    "\n",
    "### Desafio:\n",
    "\n",
    "Todos os dias, o nosso sistema atualiza as vendas do dia anterior.\n",
    "O seu trabalho diário, como analista, é enviar um e-mail para a diretoria, assim que começar a trabalhar, com o faturamento e a quantidade de produtos vendidos no dia anterior\n",
    "\n",
    "E-mail da diretoria: seugmail+diretoria@gmail.com<br>\n",
    "Local onde o sistema disponibiliza as vendas do dia anterior: https://drive.google.com/drive/folders/149xknr9JvrlEnhNWO49zPcw0PW5icxga?usp=sharing\n",
    "\n",
    "Para resolver isso, vamos usar o pyautogui, uma biblioteca de automação de comandos do mouse e do teclado"
   ]
  },
  {
   "cell_type": "code",
   "execution_count": 24,
   "metadata": {},
   "outputs": [],
   "source": [
    "import pyautogui\n",
    "import pyperclip\n",
    "import time\n",
    "\n",
    "\n",
    "pyautogui.PAUSE = 1\n",
    "pyautogui.hotkey(\"ctrl\",\"t\")\n",
    "pyperclip.copy(r\"https://drive.google.com/drive/folders/149xknr9JvrlEnhNWO49zPcw0PW5icxga?usp=sharing\")\n",
    "pyautogui.hotkey(\"ctrl\",\"v\")\n",
    "#pyautogui.write(r\"https://drive.google.com/drive/folders/149xknr9JvrlEnhNWO49zPcw0PW5icxga?usp=sharing\")\n",
    "pyautogui.press(\"enter\")\n",
    "time.sleep(2)\n",
    "pyautogui.click(x=381, y=401,clicks=2)\n",
    "time.sleep(2)\n",
    "pyautogui.click(x=404, y=451,clicks=1)\n",
    "time.sleep(3)\n",
    "pyautogui.click(x=489, y=232,clicks=1)\n",
    "time.sleep(5)\n",
    "pyautogui.press(\"enter\")\n",
    "time.sleep(5)"
   ]
  },
  {
   "cell_type": "markdown",
   "metadata": {},
   "source": [
    "### Vamos agora ler o arquivo baixado para pegar os indicadores\n",
    "\n",
    "- Faturamento\n",
    "- Quantidade de Produtos"
   ]
  },
  {
   "cell_type": "code",
   "execution_count": 25,
   "metadata": {},
   "outputs": [
    {
     "name": "stdout",
     "output_type": "stream",
     "text": [
      "faturamento: 2917311\n",
      " Quantidade: 15227\n"
     ]
    }
   ],
   "source": [
    "import pandas as pd\n",
    "\n",
    "df = pd.read_excel(r\"C:\\Users\\Pichau\\Downloads\\Vendas - Dez.xlsx\")\n",
    "faturamento = df['Valor Final'].sum()\n",
    "quantidade = df['Quantidade'].sum()\n",
    "print(f\"faturamento: {faturamento}\\n Quantidade: {quantidade}\")"
   ]
  },
  {
   "cell_type": "markdown",
   "metadata": {},
   "source": [
    "### Vamos agora enviar um e-mail pelo gmail"
   ]
  },
  {
   "cell_type": "code",
   "execution_count": 26,
   "metadata": {},
   "outputs": [],
   "source": [
    "pyperclip.copy(\"https://mail.google.com/mail/u/0/#inbox\")\n",
    "pyautogui.hotkey(\"ctrl\",\"t\")\n",
    "pyautogui.hotkey(\"ctrl\",\"v\")\n",
    "pyautogui.press(\"enter\")\n",
    "time.sleep(5)\n",
    "pyautogui.click(x=132, y=166)\n",
    "pyautogui.write(\"kaio.alves123+aula@gmail.com\")\n",
    "pyautogui.press(\"tab\")\n",
    "time.sleep(2)\n",
    "pyautogui.press(\"tab\")\n",
    "pyperclip.copy(\"Relatório de Vendas\")\n",
    "pyautogui.hotkey(\"ctrl\",\"v\")\n",
    "pyautogui.press(\"tab\")\n",
    "pyperclip.copy(f\"\"\"\n",
    "Prezados, bom dia!\n",
    "\n",
    "O faturamento de ontem foi de: R${faturamento:,.2f}\\n\n",
    "A quantidade de vendas ontem foi de: {quantidade:,}\n",
    "\n",
    "\"\"\")\n",
    "\n",
    "pyautogui.hotkey(\"ctrl\",\"v\")\n",
    "pyautogui.hotkey(\"ctrl\",\"enter\")\n",
    "#kaio.alves123+aula@gmail.com"
   ]
  },
  {
   "cell_type": "markdown",
   "metadata": {},
   "source": [
    "#### Use esse código para descobrir qual a posição de um item que queira clicar\n",
    "\n",
    "- Lembre-se: a posição na sua tela é diferente da posição na minha tela"
   ]
  },
  {
   "cell_type": "code",
   "execution_count": 27,
   "metadata": {},
   "outputs": [],
   "source": [
    "# time.sleep(4)\n",
    "# pyautogui.position()"
   ]
  },
  {
   "cell_type": "code",
   "execution_count": null,
   "metadata": {},
   "outputs": [],
   "source": []
  }
 ],
 "metadata": {
  "kernelspec": {
   "display_name": "Python 3 (ipykernel)",
   "language": "python",
   "name": "python3"
  },
  "language_info": {
   "codemirror_mode": {
    "name": "ipython",
    "version": 3
   },
   "file_extension": ".py",
   "mimetype": "text/x-python",
   "name": "python",
   "nbconvert_exporter": "python",
   "pygments_lexer": "ipython3",
   "version": "3.9.12"
  }
 },
 "nbformat": 4,
 "nbformat_minor": 4
}
