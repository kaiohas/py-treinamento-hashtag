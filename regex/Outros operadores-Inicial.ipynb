{
 "cells": [
  {
   "cell_type": "code",
   "execution_count": 1,
   "id": "70ad71ae",
   "metadata": {},
   "outputs": [],
   "source": [
    "informacoes = [\n",
    "    \"http://hashtagtreinamentos.com\", \n",
    "    \"https://vimeo.com/\",\n",
    "    \"https://youtube.com/\",\n",
    "    \"Pesquisar no Google: http://google.com\",\n",
    "    \"http://wikipedia.org\",\n",
    "    \"http://google.com\",\n",
    "    \"http://bcb.gov.br/\",\n",
    "    \"Pesquisar no Bing\",\n",
    "]"
   ]
  },
  {
   "cell_type": "markdown",
   "id": "8994ecaa",
   "metadata": {},
   "source": [
    "- ^ – buscar elementos no início da string;"
   ]
  },
  {
   "cell_type": "code",
   "execution_count": 23,
   "id": "f84e5640",
   "metadata": {},
   "outputs": [
    {
     "name": "stdout",
     "output_type": "stream",
     "text": [
      "http://hashtagtreinamentos.com\n",
      "['http']\n",
      "https://vimeo.com/\n",
      "['http']\n",
      "https://youtube.com/\n",
      "['http']\n",
      "Pesquisar no Google: http://google.com\n",
      "[]\n",
      "http://wikipedia.org\n",
      "['http']\n",
      "http://google.com\n",
      "['http']\n",
      "http://bcb.gov.br/\n",
      "['http']\n",
      "Pesquisar no Bing\n",
      "[]\n"
     ]
    }
   ],
   "source": [
    "import re\n",
    "padrao = re.compile(r\"^http\")\n",
    "for item in informacoes:\n",
    "    print(item)\n",
    "    resultado = re.findall(padrao,item)\n",
    "    print(resultado)\n",
    "\n",
    "\n"
   ]
  },
  {
   "cell_type": "markdown",
   "id": "606d77de",
   "metadata": {},
   "source": [
    "- $ – buscar elementos no final da string;"
   ]
  },
  {
   "cell_type": "code",
   "execution_count": 24,
   "id": "8811c433",
   "metadata": {},
   "outputs": [
    {
     "name": "stdout",
     "output_type": "stream",
     "text": [
      "http://hashtagtreinamentos.com\n",
      "[]\n",
      "https://vimeo.com/\n",
      "[]\n",
      "https://youtube.com/\n",
      "[]\n",
      "Pesquisar no Google: http://google.com\n",
      "[]\n",
      "http://wikipedia.org\n",
      "[]\n",
      "http://google.com\n",
      "[]\n",
      "http://bcb.gov.br/\n",
      "[]\n",
      "Pesquisar no Bing\n",
      "[]\n"
     ]
    }
   ],
   "source": [
    "padrao = re.compile(r\".com\\?$\")\n",
    "for item in informacoes:\n",
    "    print(item)\n",
    "    resultado = re.findall(padrao,item)\n",
    "    print(resultado)\n",
    "\n",
    "\n"
   ]
  },
  {
   "cell_type": "markdown",
   "id": "75d2f588",
   "metadata": {},
   "source": [
    "- [^] - diferente de um caractere especificado logo após o ^"
   ]
  },
  {
   "cell_type": "code",
   "execution_count": 31,
   "id": "a58b953c",
   "metadata": {},
   "outputs": [
    {
     "name": "stdout",
     "output_type": "stream",
     "text": [
      "http://hashtagtreinamentos.com\n",
      "['http://hashtagtreinamentos.c']\n",
      "https://vimeo.com/\n",
      "['https://vimeo.c']\n",
      "https://youtube.com/\n",
      "['https://youtube.c']\n",
      "Pesquisar no Google: http://google.com\n",
      "['http://google.c']\n",
      "http://wikipedia.org\n",
      "['http://wikipedia.o']\n",
      "http://google.com\n",
      "['http://google.c']\n",
      "http://bcb.gov.br/\n",
      "[]\n",
      "Pesquisar no Bing\n",
      "[]\n"
     ]
    }
   ],
   "source": [
    "padrao = re.compile(r\"http[a-z:/]+\\.[^g]\")\n",
    "for item in informacoes:\n",
    "    print(item)\n",
    "    resultado = re.findall(padrao,item)\n",
    "    print(resultado)\n",
    "\n",
    "\n"
   ]
  },
  {
   "cell_type": "code",
   "execution_count": 33,
   "id": "c1cf24cf",
   "metadata": {},
   "outputs": [
    {
     "name": "stdout",
     "output_type": "stream",
     "text": [
      "http://hashtagtreinamentos.com\n",
      "['http://hashtagtreinamentos.']\n",
      "https://vimeo.com/\n",
      "['https://vimeo.']\n",
      "https://youtube.com/\n",
      "['https://youtube.']\n",
      "Pesquisar no Google: http://google.com\n",
      "['http://google.']\n",
      "http://wikipedia.org\n",
      "['http://wikipedia.']\n",
      "http://google.com\n",
      "['http://google.']\n",
      "http://bcb.gov.br/\n",
      "['http://bcb.']\n",
      "Pesquisar no Bing\n",
      "[]\n"
     ]
    }
   ],
   "source": [
    "padrao = re.compile(r\"http[a-z:/]+\\.+\")\n",
    "for item in informacoes:\n",
    "    print(item)\n",
    "    resultado = re.findall(padrao,item)\n",
    "    print(resultado)\n"
   ]
  },
  {
   "cell_type": "code",
   "execution_count": null,
   "id": "39f41de2",
   "metadata": {},
   "outputs": [],
   "source": []
  }
 ],
 "metadata": {
  "kernelspec": {
   "display_name": "Python 3 (ipykernel)",
   "language": "python",
   "name": "python3"
  },
  "language_info": {
   "codemirror_mode": {
    "name": "ipython",
    "version": 3
   },
   "file_extension": ".py",
   "mimetype": "text/x-python",
   "name": "python",
   "nbconvert_exporter": "python",
   "pygments_lexer": "ipython3",
   "version": "3.11.2"
  }
 },
 "nbformat": 4,
 "nbformat_minor": 5
}
