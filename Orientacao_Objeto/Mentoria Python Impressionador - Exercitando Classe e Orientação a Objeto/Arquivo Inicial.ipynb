{
 "cells": [
  {
   "cell_type": "markdown",
   "id": "72721608",
   "metadata": {},
   "source": [
    "### Criando classes"
   ]
  },
  {
   "cell_type": "code",
   "execution_count": 1,
   "id": "43e865b8",
   "metadata": {},
   "outputs": [],
   "source": [
    "class MinhaClasse():\n",
    "    pass"
   ]
  },
  {
   "cell_type": "code",
   "execution_count": 2,
   "id": "1ee70130",
   "metadata": {},
   "outputs": [],
   "source": [
    "class MinhaClasse():\n",
    "    def metodo():\n",
    "        pass"
   ]
  },
  {
   "cell_type": "code",
   "execution_count": 4,
   "id": "2933ff80",
   "metadata": {},
   "outputs": [],
   "source": [
    "class MinhaClasse():\n",
    "    atributo = \"valor\"\n",
    "    def metodo():\n",
    "        pass"
   ]
  },
  {
   "cell_type": "code",
   "execution_count": null,
   "id": "3f6fdcc0",
   "metadata": {},
   "outputs": [],
   "source": [
    "class MinhaClasse():\n",
    "    def __init__(self):\n",
    "        self.atributo = \"valor\"\n",
    "    def metodo(self):\n",
    "        pass"
   ]
  },
  {
   "cell_type": "markdown",
   "id": "b51e29d9",
   "metadata": {},
   "source": [
    "### Exemplo simples"
   ]
  },
  {
   "cell_type": "code",
   "execution_count": 8,
   "id": "cbe066ab",
   "metadata": {},
   "outputs": [],
   "source": [
    "class Vendedor():\n",
    "    pass"
   ]
  },
  {
   "cell_type": "markdown",
   "id": "5cabe7c8",
   "metadata": {},
   "source": [
    "### Refatorando um código para POO"
   ]
  },
  {
   "cell_type": "code",
   "execution_count": 1,
   "id": "fad537dc",
   "metadata": {},
   "outputs": [
    {
     "name": "stdout",
     "output_type": "stream",
     "text": [
      "Requirement already satisfied: pyautogui in c:\\users\\pichau\\appdata\\local\\programs\\python\\python312\\lib\\site-packages (0.9.54)\n",
      "Requirement already satisfied: pymsgbox in c:\\users\\pichau\\appdata\\local\\programs\\python\\python312\\lib\\site-packages (from pyautogui) (1.0.9)\n",
      "Requirement already satisfied: pytweening>=1.0.4 in c:\\users\\pichau\\appdata\\local\\programs\\python\\python312\\lib\\site-packages (from pyautogui) (1.2.0)\n",
      "Requirement already satisfied: pyscreeze>=0.1.21 in c:\\users\\pichau\\appdata\\local\\programs\\python\\python312\\lib\\site-packages (from pyautogui) (1.0.1)\n",
      "Requirement already satisfied: pygetwindow>=0.0.5 in c:\\users\\pichau\\appdata\\local\\programs\\python\\python312\\lib\\site-packages (from pyautogui) (0.0.9)\n",
      "Requirement already satisfied: mouseinfo in c:\\users\\pichau\\appdata\\local\\programs\\python\\python312\\lib\\site-packages (from pyautogui) (0.1.3)\n",
      "Requirement already satisfied: pyrect in c:\\users\\pichau\\appdata\\local\\programs\\python\\python312\\lib\\site-packages (from pygetwindow>=0.0.5->pyautogui) (0.2.0)\n",
      "Requirement already satisfied: pyperclip in c:\\users\\pichau\\appdata\\local\\programs\\python\\python312\\lib\\site-packages (from mouseinfo->pyautogui) (1.9.0)\n",
      "Note: you may need to restart the kernel to use updated packages.\n"
     ]
    }
   ],
   "source": [
    "pip install pyautogui"
   ]
  },
  {
   "cell_type": "code",
   "execution_count": 3,
   "id": "a5b01138",
   "metadata": {},
   "outputs": [
    {
     "ename": "KeyboardInterrupt",
     "evalue": "",
     "output_type": "error",
     "traceback": [
      "\u001b[1;31m---------------------------------------------------------------------------\u001b[0m",
      "\u001b[1;31mKeyboardInterrupt\u001b[0m                         Traceback (most recent call last)",
      "Cell \u001b[1;32mIn[3], line 36\u001b[0m\n\u001b[0;32m     33\u001b[0m pyautogui\u001b[38;5;241m.\u001b[39mclick(x\u001b[38;5;241m=\u001b[39m\u001b[38;5;241m749\u001b[39m, y\u001b[38;5;241m=\u001b[39m\u001b[38;5;241m699\u001b[39m)\n\u001b[0;32m     35\u001b[0m \u001b[38;5;66;03m# aguardar\u001b[39;00m\n\u001b[1;32m---> 36\u001b[0m \u001b[43mtime\u001b[49m\u001b[38;5;241;43m.\u001b[39;49m\u001b[43msleep\u001b[49m\u001b[43m(\u001b[49m\u001b[38;5;241;43m3\u001b[39;49m\u001b[43m)\u001b[49m\n\u001b[0;32m     38\u001b[0m \u001b[38;5;66;03m# extrair o link\u001b[39;00m\n\u001b[0;32m     39\u001b[0m pyautogui\u001b[38;5;241m.\u001b[39mclick(x\u001b[38;5;241m=\u001b[39m\u001b[38;5;241m390\u001b[39m, y\u001b[38;5;241m=\u001b[39m\u001b[38;5;241m789\u001b[39m, button\u001b[38;5;241m=\u001b[39m\u001b[38;5;124m\"\u001b[39m\u001b[38;5;124mright\u001b[39m\u001b[38;5;124m\"\u001b[39m)\n",
      "\u001b[1;31mKeyboardInterrupt\u001b[0m: "
     ]
    }
   ],
   "source": [
    "import pyautogui\n",
    "import pyperclip\n",
    "import time\n",
    "\n",
    "# abrindo o chrome\n",
    "pyautogui.PAUSE = 1\n",
    "pyautogui.press(\"win\")\n",
    "pyautogui.write(\"chrome\")\n",
    "pyautogui.press(\"enter\")\n",
    "\n",
    "# entrando no site da hashtag\n",
    "link = \"https://www.hashtagtreinamentos.com/blog\"\n",
    "pyperclip.copy(link)\n",
    "pyautogui.hotkey(\"ctrl\", \"v\")\n",
    "pyautogui.press(\"enter\")\n",
    "\n",
    "# aguardar\n",
    "time.sleep(3)\n",
    "\n",
    "# clicando no campo de busca\n",
    "pyautogui.click(x=1508, y=585)\n",
    "\n",
    "# pesquisando campo de busca\n",
    "texto = \"classe\"\n",
    "pyperclip.copy(texto)\n",
    "pyautogui.hotkey(\"ctrl\", \"v\")\n",
    "pyautogui.press(\"enter\")\n",
    "\n",
    "# aguardar\n",
    "time.sleep(3)\n",
    "\n",
    "# clicar na imagem\n",
    "pyautogui.click(x=749, y=699)\n",
    "\n",
    "# aguardar\n",
    "time.sleep(3)\n",
    "\n",
    "# extrair o link\n",
    "pyautogui.click(x=390, y=789, button=\"right\")\n",
    "pyautogui.press(\"up\")\n",
    "pyautogui.press(\"up\")\n",
    "pyautogui.press(\"enter\")\n",
    "\n",
    "# printar o texto copiado\n",
    "texto = pyperclip.paste()\n",
    "print(texto)"
   ]
  },
  {
   "cell_type": "code",
   "execution_count": 20,
   "id": "0bc6a26d",
   "metadata": {},
   "outputs": [
    {
     "name": "stdout",
     "output_type": "stream",
     "text": [
      "pegando posicao em 5 segundos\n",
      "pegando posicao em 4 segundos\n",
      "pegando posicao em 3 segundos\n",
      "pegando posicao em 2 segundos\n",
      "pegando posicao em 1 segundos\n",
      "Point(x=494, y=350)\n"
     ]
    }
   ],
   "source": [
    "# pegando a posicao de um elemento\n",
    "for i in range(5):\n",
    "    print(f\"pegando posicao em {5 - i} segundos\")\n",
    "    time.sleep(1)\n",
    "    \n",
    "print(pyautogui.position())"
   ]
  },
  {
   "cell_type": "markdown",
   "id": "2aa65343",
   "metadata": {},
   "source": [
    "### Refatorando com classe"
   ]
  },
  {
   "cell_type": "code",
   "execution_count": 36,
   "id": "92164d9a",
   "metadata": {},
   "outputs": [],
   "source": [
    "class MeuRobo():\n",
    "    def __init__(self,tempo_espera):\n",
    "        self.tempo_espera = tempo_espera\n",
    "        pyautogui.PAUSE=1\n",
    "\n",
    "    def abrir_programa(self,programa):\n",
    "        pyautogui.press(\"win\")\n",
    "        pyautogui.write(programa)\n",
    "        pyautogui.press(\"enter\")\n",
    "        pyautogui.PAUSE=1\n",
    "        #pyautogui.click(x=804, y=583)\n",
    "\n",
    "    def entrar_site(self,site):\n",
    "        self.escrever_e_enter(site)\n",
    "        self.aguardar()\n",
    "\n",
    "    def escrever_e_enter(self,texto):\n",
    "        pyperclip.copy(texto)\n",
    "        pyautogui.hotkey(\"ctrl\",\"v\")\n",
    "        pyautogui.press(\"enter\")\n",
    "\n",
    "    def aguardar(self):\n",
    "        time.sleep(self.tempo_espera)\n",
    "\n",
    "    def pesquisar_campo(self,texto):\n",
    "        self.escrever_e_enter(texto)\n",
    "        self.aguardar()\n",
    "\n",
    "    def clicar(self,x,y,botao='left'):\n",
    "        pyautogui.click(x,y,button=botao)\n",
    "\n",
    "    def pegar_posicao(self):\n",
    "        for i in range(5):\n",
    "            print(f\"pegando posicao em {5 - i} segundos\")\n",
    "            time.sleep(1)\n",
    "        print(pyautogui.position())\n",
    "\n",
    "    def extrair_link(self,x,y):\n",
    "        self.clicar(x,y,botao='right')\n",
    "        pyautogui.press(\"up\")\n",
    "        pyautogui.press(\"up\")\n",
    "        pyautogui.press(\"up\")\n",
    "        pyautogui.press(\"up\")\n",
    "        pyautogui.press(\"up\")\n",
    "        pyautogui.press(\"enter\")\n",
    "        \n",
    "        # printar o texto copiado\n",
    "        texto = pyperclip.paste()\n",
    "        print(texto)"
   ]
  },
  {
   "cell_type": "code",
   "execution_count": 37,
   "id": "644fb8ba",
   "metadata": {},
   "outputs": [
    {
     "name": "stdout",
     "output_type": "stream",
     "text": [
      "https://youtube.com/hashtagprograma%C3%A7%C3%A3o\n"
     ]
    }
   ],
   "source": [
    "robo = MeuRobo(3)\n",
    "\n",
    "robo.abrir_programa('edge')\n",
    "robo.entrar_site(\"https://www.hashtagtreinamentos.com/blog\")\n",
    "robo.clicar(x=1329, y=524)\n",
    "robo.pesquisar_campo('classe')\n",
    "robo.clicar(x=1387, y=648)\n",
    "robo.aguardar()\n",
    "robo.clicar(x=780, y=722)\n",
    "robo.aguardar()\n",
    "robo.extrair_link(x=468, y=625)\n"
   ]
  },
  {
   "cell_type": "code",
   "execution_count": 35,
   "id": "99852e00",
   "metadata": {},
   "outputs": [
    {
     "name": "stdout",
     "output_type": "stream",
     "text": [
      "pegando posicao em 5 segundos\n",
      "pegando posicao em 4 segundos\n",
      "pegando posicao em 3 segundos\n",
      "pegando posicao em 2 segundos\n",
      "pegando posicao em 1 segundos\n",
      "Point(x=780, y=722)\n"
     ]
    }
   ],
   "source": [
    "#(x=468, y=625)\n",
    "robo = MeuRobo(3)\n",
    "robo.pegar_posicao()\n"
   ]
  },
  {
   "cell_type": "code",
   "execution_count": null,
   "id": "0427a07c",
   "metadata": {},
   "outputs": [],
   "source": []
  }
 ],
 "metadata": {
  "kernelspec": {
   "display_name": "Python 3 (ipykernel)",
   "language": "python",
   "name": "python3"
  },
  "language_info": {
   "codemirror_mode": {
    "name": "ipython",
    "version": 3
   },
   "file_extension": ".py",
   "mimetype": "text/x-python",
   "name": "python",
   "nbconvert_exporter": "python",
   "pygments_lexer": "ipython3",
   "version": "3.12.1"
  }
 },
 "nbformat": 4,
 "nbformat_minor": 5
}
