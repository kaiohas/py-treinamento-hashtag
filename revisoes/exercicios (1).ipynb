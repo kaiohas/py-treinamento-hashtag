{
 "cells": [
  {
   "cell_type": "markdown",
   "id": "68b1c105fc6d5a40",
   "metadata": {},
   "source": [
    "# Exercícios de fixação "
   ]
  },
  {
   "cell_type": "markdown",
   "id": "d81c51497df6ecd4",
   "metadata": {},
   "source": [
    "A seguir, você encontrará alguns exercícios para fixar os conceitos aprendidos no curso até agora. Os exercícios estão divididos por exemplos práticos da vida real:\n",
    "\n",
    "- lista de compras\n",
    "- previsão de vendas\n",
    "- relatório de vendas\n",
    "- segmentação de clientes\n",
    "- analisador de texto\n",
    "\n",
    "Para cada assunto, você encontrará ao menos um exercício. Nos casos onde há mais de um exercício para o mesmo assunto, você será convidado a resolver o mesmo problema de formas diferentes. Isso é proposital, pois o objetivo é que você pratique o que aprendeu e, ao mesmo tempo, aprenda novas formas de resolver um mesmo problema. Por exemplo, usando diferentes estruturas de dados, ou diferentes formas de iterar sobre uma estrutura de dados, ou, ainda, utilizando funções.\n",
    "\n",
    "Tente resolver os exercícios sozinho. Se tiver dificuldades, consulte o material do curso e, se ainda assim não conseguir resolver, consulte a solução."
   ]
  },
  {
   "cell_type": "markdown",
   "id": "2fd1aaad9d2664d6",
   "metadata": {},
   "source": [
    "## Lista de compras"
   ]
  },
  {
   "cell_type": "markdown",
   "id": "8d98a0cd2735ed15",
   "metadata": {},
   "source": [
    "### Primeira versão da lista de compras"
   ]
  },
  {
   "cell_type": "markdown",
   "id": "76793ae6bcbd8eb0",
   "metadata": {},
   "source": [
    "Escreva um programa que permita que um usuário crie uma lista de compras.\n",
    "O usuário deve ser capaz de adicionar itens, remover itens e visualizar a lista.\n",
    "\n",
    "Estruture seu programa da seguinte forma:\n",
    "\n",
    "1. Crie uma lista vazia para armazenar os itens da lista de compras.\n",
    "2. Crie um loop infinito que imprima um menu de opções ao usuário e permita que ele escolha uma opção.\n",
    "3. Dentro do loop, use uma declaração if para executar a tarefa apropriada de acordo com a escolha do usuário.\n",
    "4. Se o usuário escolher adicionar um item, solicite que ele digite o nome do item e adicione-o à lista.\n",
    "5. Se o usuário escolher remover um item, solicite que ele digite o nome do item e remova-o da lista.\n",
    "6. Se o usuário escolher ver a lista, mostre cada item da lista em sua própria linha.\n",
    "7. Se o usuário escolher sair, encerre o loop usando break.\n",
    "\n",
    "Exemplo de saída:\n",
    "\n",
    "```\n",
    "1 Adicionar item\n",
    "2 Remover item\n",
    "3 Ver lista\n",
    "4 Sair\n",
    "Escolha uma opção: 1\n",
    "Digite um item: banana\n",
    "\n",
    "1 Adicionar item\n",
    "2 Remover item\n",
    "3 Ver lista\n",
    "4 Sair\n",
    "Escolha uma opção: 1\n",
    "Digite um item: maçã\n",
    "\n",
    "1 Adicionar item\n",
    "2 Remover item\n",
    "3 Ver lista\n",
    "4 Sair\n",
    "Escolha uma opção: 3\n",
    "['banana', 'maçã']\n",
    "\n",
    "1 Adicionar item\n",
    "2 Remover item\n",
    "3 Ver lista\n",
    "4 Sair\n",
    "Escolha uma opção: 2\n",
    "Digite um item: banana\n",
    "\n",
    "1 Adicionar item\n",
    "2 Remover item\n",
    "3 Ver lista\n",
    "4 Sair\n",
    "Escolha uma opção: 3\n",
    "['maçã']\n",
    "\n",
    "1 Adicionar item\n",
    "2 Remover item\n",
    "3 Ver lista\n",
    "4 Sair\n",
    "Escolha uma opção: 4\n",
    "```"
   ]
  },
  {
   "cell_type": "code",
   "execution_count": 7,
   "id": "6a3fb793",
   "metadata": {},
   "outputs": [
    {
     "name": "stdout",
     "output_type": "stream",
     "text": [
      "1 - Adicionar item\n",
      "2 - Remover item\n",
      "3 - Ver lista\n",
      "4 - Sair\n"
     ]
    }
   ],
   "source": [
    "for i in menu:\n",
    "    print(i)"
   ]
  },
  {
   "cell_type": "code",
   "execution_count": 8,
   "id": "e804e5e0-b820-4d73-82b5-bc41f438d3e5",
   "metadata": {
    "tags": []
   },
   "outputs": [
    {
     "name": "stdout",
     "output_type": "stream",
     "text": [
      "1 - Adicionar item\n",
      "2 - Remover item\n",
      "3 - Ver lista\n",
      "4 - Sair\n",
      "Digite o item: \n",
      "\n",
      "\n",
      "1 - Adicionar item\n",
      "2 - Remover item\n",
      "3 - Ver lista\n",
      "4 - Sair\n",
      "Digite o item: \n",
      "\n",
      "\n",
      "1 - Adicionar item\n",
      "2 - Remover item\n",
      "3 - Ver lista\n",
      "4 - Sair\n",
      "banana\n",
      "maca\n",
      "\n",
      "\n",
      "1 - Adicionar item\n",
      "2 - Remover item\n",
      "3 - Ver lista\n",
      "4 - Sair\n",
      "Digite o item: \n",
      "\n",
      "\n",
      "1 - Adicionar item\n",
      "2 - Remover item\n",
      "3 - Ver lista\n",
      "4 - Sair\n",
      "maca\n",
      "\n",
      "\n",
      "1 - Adicionar item\n",
      "2 - Remover item\n",
      "3 - Ver lista\n",
      "4 - Sair\n"
     ]
    }
   ],
   "source": [
    "# solução\n",
    "\n",
    "#1. Crie uma lista vazia para armazenar os itens da lista de compras.\n",
    "lista = []\n",
    "#2. Crie um loop infinito que imprima um menu de opções ao usuário e permita que ele escolha uma opção.\n",
    "\n",
    "menu = ['1 - Adicionar item','2 - Remover item','3 - Ver lista','4 - Sair']\n",
    "\n",
    "print(menu[0],menu[1],menu[2],menu[3],sep='\\n')\n",
    "opcao = int(input('Escolha uma opção: '))\n",
    "\n",
    "while opcao != 4:\n",
    "    #3. Dentro do loop, use uma declaração if para executar a tarefa apropriada de acordo com a escolha do usuário.\n",
    "        #4. Se o usuário escolher adicionar um item, solicite que ele digite o nome do item e adicione-o à lista.\n",
    "    if opcao == 1:\n",
    "        item = input(print('Digite o item: '))\n",
    "        lista.append(item)\n",
    "        print('\\n')\n",
    "        print(menu[0],menu[1],menu[2],menu[3],sep='\\n')\n",
    "        opcao = int(input('Escolha uma opção: '))\n",
    "        #5. Se o usuário escolher remover um item, solicite que ele digite o nome do item e remova-o da lista.\n",
    "    elif opcao == 2:\n",
    "        item = input(print('Digite o item: '))\n",
    "        lista.remove(item)\n",
    "        print('\\n')\n",
    "        print(menu[0],menu[1],menu[2],menu[3],sep='\\n')\n",
    "        opcao = int(input('Escolha uma opção: '))\n",
    "        #6. Se o usuário escolher ver a lista, mostre cada item da lista em sua própria linha.\n",
    "    elif opcao == 3:\n",
    "        for i in lista:\n",
    "            print(i)\n",
    "        print('\\n')\n",
    "        print(menu[0],menu[1],menu[2],menu[3],sep='\\n')\n",
    "        opcao = int(input('Escolha uma opção: '))\n",
    "        #7. Se o usuário escolher sair, encerre o loop usando break.\n",
    "    elif opcao ==4:\n",
    "        break\n",
    "    else:\n",
    "        print('Opção inválida, tente novamente')\n",
    "        print('n')\n",
    "        print(menu[0],menu[1],menu[2],menu[3],sep='\\n')\n",
    "        opcao = int(input('Escolha uma opção: '))\n",
    "\n",
    "\n",
    "\n"
   ]
  },
  {
   "cell_type": "markdown",
   "id": "e72063557a269f88",
   "metadata": {},
   "source": [
    "### Segunda versão da lista de compras\n"
   ]
  },
  {
   "cell_type": "markdown",
   "id": "eadb8c98aececf0c",
   "metadata": {},
   "source": [
    "Mude o programa de lista de compras para usar um dicionário ao invés de uma lista.\n",
    "O programa deve ter as mesmas funcionalidades, mas agora deve ser possível\n",
    "adicionar mais de uma unidade de um item na lista de compras. Ou seja, o dicionário\n",
    "deve armazenar o nome do item e a quantidade desejada pelo usuário. Por exemplo,\n",
    "se o usuário digitar \"banana\" e \"2\", o dicionário deve armazenar \"banana\" como chave\n",
    "e 2 como valor. A estrutura do dicionário ficaria assim: `{\"banana\": 2}`.\n",
    "\n",
    "O programa deve permitir que o usuário adicione, remova e visualize o dicionário de compras.\n",
    "\n",
    "Além disso, o programa deve mostrar uma mensagem de erro se o usuário tentar\n",
    "usar uma opção inválida do menu. Por exemplo, se o usuário digitar 5, o programa\n",
    "deve mostrar a mensagem \"Opção inválida. Por favor, escolha uma opção válida.\" e\n",
    "mostrar o menu novamente. Além disso, o programa deve ser *case insensitive*, ou seja,\n",
    "\"Maçã\" e \"maçã\" devem ser considerados o mesmo item.\n",
    "\n",
    "Exemplo de saída:\n",
    "\n",
    "```\n",
    "1 Adicionar item\n",
    "2 Remover item\n",
    "3 Ver lista\n",
    "4 Sair\n",
    "Escolha uma opção: 1\n",
    "Digite um item: banana\n",
    "Digite a quantidade: 2\n",
    "\n",
    "1 Adicionar item\n",
    "2 Remover item\n",
    "3 Ver lista\n",
    "4 Sair\n",
    "Escolha uma opção: 1\n",
    "Digite um item: maçã\n",
    "Digite a quantidade: 3\n",
    "\n",
    "1 Adicionar item\n",
    "2 Remover item\n",
    "3 Ver lista\n",
    "4 Sair\n",
    "Escolha uma opção: 3\n",
    "{'banana': 2, 'maçã': 3}\n",
    "\n",
    "1 Adicionar item\n",
    "2 Remover item\n",
    "3 Ver lista\n",
    "4 Sair\n",
    "Escolha uma opção: 2\n",
    "Digite um item: banana\n",
    "Digite a quantidade: 1\n",
    "\n",
    "1 Adicionar item\n",
    "2 Remover item\n",
    "3 Ver lista\n",
    "4 Sair\n",
    "Escolha uma opção: 3\n",
    "{'banana': 1, 'maçã': 3}\n",
    "\n",
    "1 Adicionar item\n",
    "2 Remover item\n",
    "3 Ver lista\n",
    "4 Sair\n",
    "Escolha uma opção: 4\n",
    "```\n"
   ]
  },
  {
   "cell_type": "code",
   "execution_count": 28,
   "id": "70ceee26",
   "metadata": {},
   "outputs": [
    {
     "name": "stdout",
     "output_type": "stream",
     "text": [
      "--------------------\n"
     ]
    }
   ],
   "source": []
  },
  {
   "cell_type": "code",
   "execution_count": 7,
   "id": "b18d69c02667c201",
   "metadata": {
    "collapsed": false,
    "jupyter": {
     "outputs_hidden": false
    },
    "tags": []
   },
   "outputs": [
    {
     "name": "stdout",
     "output_type": "stream",
     "text": [
      "1 - Adicionar item\n",
      "2 - Remover item\n",
      "3 - Ver lista\n",
      "4 - Sair\n",
      "Digite o item: \n",
      "Digite a quantidade: \n",
      "--------------------\n",
      "1 - Adicionar item\n",
      "2 - Remover item\n",
      "3 - Ver lista\n",
      "4 - Sair\n",
      "Opção inválida, tente novamente\n",
      "--------------------\n",
      "1 - Adicionar item\n",
      "2 - Remover item\n",
      "3 - Ver lista\n",
      "4 - Sair\n",
      "Opção inválida, tente novamente\n",
      "--------------------\n",
      "1 - Adicionar item\n",
      "2 - Remover item\n",
      "3 - Ver lista\n",
      "4 - Sair\n",
      "Digite o item: \n",
      "Digite a quantidade: \n",
      "--------------------\n",
      "1 - Adicionar item\n",
      "2 - Remover item\n",
      "3 - Ver lista\n",
      "4 - Sair\n",
      "banana : 20\n",
      "uva : 5\n",
      "--------------------\n",
      "1 - Adicionar item\n",
      "2 - Remover item\n",
      "3 - Ver lista\n",
      "4 - Sair\n"
     ]
    }
   ],
   "source": [
    "# solução\n",
    "#1. Crie uma lista vazia para armazenar os itens da lista de compras.\n",
    "lista = {}\n",
    "#2. Crie um loop infinito que imprima um menu de opções ao usuário e permita que ele escolha uma opção.\n",
    "\n",
    "menu = ['1 - Adicionar item','2 - Remover item','3 - Ver lista','4 - Sair']\n",
    "\n",
    "print(menu[0],menu[1],menu[2],menu[3],sep='\\n')\n",
    "opcao = input('Escolha uma opção: ')\n",
    "\n",
    "while opcao != '4':\n",
    "    #3. Dentro do loop, use uma declaração if para executar a tarefa apropriada de acordo com a escolha do usuário.\n",
    "        #4. Se o usuário escolher adicionar um item, solicite que ele digite o nome do item e adicione-o à lista.\n",
    "    if opcao == '1':\n",
    "        item = input(print('Digite o item: '))\n",
    "        qtd = int(input(print('Digite a quantidade: ')))\n",
    "        lista[item.lower()] = qtd\n",
    "        print('-'*20)\n",
    "        print(menu[0],menu[1],menu[2],menu[3],sep='\\n')\n",
    "        opcao = input('Escolha uma opção: ')\n",
    "        #5. Se o usuário escolher remover um item, solicite que ele digite o nome do item e remova-o da lista.\n",
    "    elif opcao == '2':\n",
    "        item = input(print('Digite o item: '))\n",
    "        lista.pop(item.lower())\n",
    "        print('-'*20)\n",
    "        print(menu[0],menu[1],menu[2],menu[3],sep='\\n')\n",
    "        opcao = input('Escolha uma opção: ')\n",
    "        #6. Se o usuário escolher ver a lista, mostre cada item da lista em sua própria linha.\n",
    "    elif opcao == '3':\n",
    "        for i in lista:\n",
    "            print(i,':',lista[i])\n",
    "        print('-'*20)\n",
    "        print(menu[0],menu[1],menu[2],menu[3],sep='\\n')\n",
    "        opcao = input('Escolha uma opção: ')\n",
    "        #7. Se o usuário escolher sair, encerre o loop usando break.\n",
    "    else:\n",
    "        print('Opção inválida, tente novamente')\n",
    "        print('-'*20)\n",
    "        print(menu[0],menu[1],menu[2],menu[3],sep='\\n')\n",
    "        opcao = input('Escolha uma opção: ')\n",
    "\n"
   ]
  },
  {
   "cell_type": "markdown",
   "id": "54b3116e8672ece9",
   "metadata": {},
   "source": [
    "### Terceira versão da lista de compras"
   ]
  },
  {
   "cell_type": "markdown",
   "id": "60956ff5a8f85a63",
   "metadata": {},
   "source": [
    "Mantenha o programa da lista de compras com dicionário, mas agora use funções para organizar o código. Crie funções para cada uma das opções do menu: `adicionar_item`, `remover_item` e `ver_lista`. Crie também uma função para mostrar o menu. O programa deve continuar funcionando da mesma forma, mas agora o código deve estar organizado em funções.\n"
   ]
  },
  {
   "cell_type": "code",
   "execution_count": 2,
   "id": "2090255b55f11c26",
   "metadata": {
    "collapsed": false,
    "jupyter": {
     "outputs_hidden": false
    },
    "tags": []
   },
   "outputs": [
    {
     "name": "stdout",
     "output_type": "stream",
     "text": [
      "--------------------\n",
      "1 - Adicionar item\n",
      "2 - Remover item\n",
      "3 - Ver lista\n",
      "4 - Sair\n",
      "Digite o item: \n",
      "Digite a quantidade: \n",
      "--------------------\n",
      "1 - Adicionar item\n",
      "2 - Remover item\n",
      "3 - Ver lista\n",
      "4 - Sair\n",
      "banana : 20\n",
      "--------------------\n",
      "1 - Adicionar item\n",
      "2 - Remover item\n",
      "3 - Ver lista\n",
      "4 - Sair\n",
      "Opção inválida, tente novamente\n",
      "--------------------\n",
      "1 - Adicionar item\n",
      "2 - Remover item\n",
      "3 - Ver lista\n",
      "4 - Sair\n",
      "Digite o item: \n",
      "Digite a quantidade: \n",
      "--------------------\n",
      "1 - Adicionar item\n",
      "2 - Remover item\n",
      "3 - Ver lista\n",
      "4 - Sair\n",
      "banana : 20\n",
      "uva : 250\n",
      "--------------------\n",
      "1 - Adicionar item\n",
      "2 - Remover item\n",
      "3 - Ver lista\n",
      "4 - Sair\n",
      "Digite o item: \n",
      "--------------------\n",
      "1 - Adicionar item\n",
      "2 - Remover item\n",
      "3 - Ver lista\n",
      "4 - Sair\n",
      "banana : 20\n",
      "--------------------\n",
      "1 - Adicionar item\n",
      "2 - Remover item\n",
      "3 - Ver lista\n",
      "4 - Sair\n"
     ]
    }
   ],
   "source": [
    "# solução\n",
    "# solução\n",
    "#1. Crie uma lista vazia para armazenar os itens da lista de compras.\n",
    "lista = {}\n",
    "#2. Crie um loop infinito que imprima um menu de opções ao usuário e permita que ele escolha uma opção.\n",
    "\n",
    "menu = ['1 - Adicionar item','2 - Remover item','3 - Ver lista','4 - Sair']\n",
    "def menu_opcao():\n",
    "    print('-'*20)\n",
    "    print(menu[0],menu[1],menu[2],menu[3],sep='\\n')\n",
    "    opcao = input('Escolha uma opção: ')\n",
    "    return opcao\n",
    "def adicionar_item():\n",
    "        item = input(print('Digite o item: '))\n",
    "        qtd = int(input(print('Digite a quantidade: ')))\n",
    "        lista[item.lower()] = qtd\n",
    "        \n",
    "def remover_item():\n",
    "    item = input(print('Digite o item: '))\n",
    "    lista.pop(item.lower())\n",
    "    \n",
    "def ver_lista():\n",
    "    for i in lista:\n",
    "        print(i,':',lista[i])\n",
    "    \n",
    "opcao = menu_opcao()\n",
    "\n",
    "while  opcao != '4':\n",
    "    #3. Dentro do loop, use uma declaração if para executar a tarefa apropriada de acordo com a escolha do usuário.\n",
    "        #4. Se o usuário escolher adicionar um item, solicite que ele digite o nome do item e adicione-o à lista.\n",
    "    if opcao == '1':\n",
    "         adicionar_item()\n",
    "         opcao = menu_opcao()\n",
    "        #5. Se o usuário escolher remover um item, solicite que ele digite o nome do item e remova-o da lista.\n",
    "    elif opcao == '2':\n",
    "         remover_item()\n",
    "         opcao = menu_opcao()\n",
    "\n",
    "    elif opcao == '3':\n",
    "         ver_lista()\n",
    "         opcao = menu_opcao()\n",
    "        #7. Se o usuário escolher sair, encerre o loop usando break.\n",
    "    else:\n",
    "        print('Opção inválida, tente novamente')\n",
    "        opcao = menu_opcao()\n",
    "\n"
   ]
  },
  {
   "cell_type": "markdown",
   "id": "8d588e67cfbfbca5",
   "metadata": {},
   "source": [
    "## Previsão de vendas"
   ]
  },
  {
   "cell_type": "markdown",
   "id": "8e0c92fdb167f2b7",
   "metadata": {},
   "source": [
    "### Primeira versão da previsão de vendas"
   ]
  },
  {
   "cell_type": "markdown",
   "id": "5cdcbbd0f8e2fef2",
   "metadata": {},
   "source": [
    "Escreva um programa que preveja as vendas totais para cada produto em uma empresa.\n",
    "O usuário deve digitar o nome do produto, as vendas do mês atual e a taxa de crescimento,\n",
    "e o programa deve calcular as vendas previstas para o próximo mês.\n",
    "\n",
    "Estruture seu programa da seguinte forma:\n",
    "\n",
    "1. Crie um dicionário vazio para armazenar as previsões de vendas.\n",
    "2. Crie um loop infinito que solicite ao usuário o nome do produto, as vendas do mês atual e a taxa de crescimento.\n",
    "3. Dentro do loop, use uma declaração if para verificar se o usuário digitou 'sair'.\n",
    "4. Se o usuário digitar 'sair', encerre o loop usando break.\n",
    "5. Se o usuário digitar qualquer outra coisa, use as entradas para calcular as vendas previstas e adicione-as ao dicionário.\n",
    "6. Depois que o loop for encerrado, use um loop for para iterar sobre o dicionário e mostrar as previsões de vendas para cada produto.\n",
    "\n",
    "Exemplo de saída:\n",
    "\n",
    "```\n",
    "Digite o nome do produto (ou 'sair' para sair): iphone\n",
    "Digite as vendas do mês atual: 10000\n",
    "Digite a taxa de crescimento (%): 10\n",
    "Digite o nome do produto (ou 'sair' para sair): capinha para iphone\n",
    "Digite as vendas do mês atual: 200\n",
    "Digite a taxa de crescimento (%): 20\n",
    "Digite o nome do produto (ou 'sair' para sair): sair\n",
    "iphone: Previsão de vendas do próximo mês = R$ 11000.00\n",
    "capinha para iphone: Previsão de vendas do próximo mês = R$ 240.00\n",
    "```\n"
   ]
  },
  {
   "cell_type": "code",
   "execution_count": 29,
   "id": "cda05a4c",
   "metadata": {},
   "outputs": [
    {
     "name": "stdout",
     "output_type": "stream",
     "text": [
      "(10000, 21, 12100.0)\n",
      "(20000, 15, 23000.0)\n"
     ]
    }
   ],
   "source": [
    "for prod in provisoes_vendas:\n",
    "    print(provisoes_vendas[prod])"
   ]
  },
  {
   "cell_type": "code",
   "execution_count": 20,
   "id": "eaedbd42fdbec32",
   "metadata": {
    "collapsed": false,
    "jupyter": {
     "outputs_hidden": false
    },
    "tags": []
   },
   "outputs": [
    {
     "name": "stdout",
     "output_type": "stream",
     "text": [
      "iphone : Previsão de vendas p/ Proximo mês:  11000.0\n",
      "capinha : Previsão de vendas p/ Proximo mês:  240.0\n"
     ]
    }
   ],
   "source": [
    "# solução\n",
    "\n",
    "#1. Crie um dicionário vazio para armazenar as previsões de vendas.\n",
    "provisoes_vendas = {}\n",
    "\n",
    "\n",
    "item = input(\"Digite o nome do produto(ou digite 'sair'' para sair): \")\n",
    "\n",
    "while 'sair' not in item:\n",
    "    vendas = int(input('Digite as vendas do mês atual: '))\n",
    "    taxa = int(input('Digite a taxa de crescimento(%): '))\n",
    "    provisoes_vendas[item] = (vendas,taxa,vendas*(1+(taxa/100)))\n",
    "    item = input(\"Digite o nome do produto(ou digite 'sair'' para sair): \")\n",
    "\n",
    "for item in provisoes_vendas:\n",
    "    print(item,\": Previsão de vendas p/ Proximo mês: \",provisoes_vendas[item][2])\n",
    "\n",
    "\n",
    "#2. Crie um loop infinito que solicite ao usuário o nome do produto, as vendas do mês atual e a taxa de crescimento.\n",
    "#3. Dentro do loop, use uma declaração if para verificar se o usuário digitou 'sair'.\n",
    "#4. Se o usuário digitar 'sair', encerre o loop usando break.\n",
    "#5. Se o usuário digitar qualquer outra coisa, use as entradas para calcular as vendas previstas e adicione-as ao dicionário.\n",
    "#6. Depois que o loop for encerrado, use um loop for para iterar sobre o dicionário e mostrar as previsões de vendas para cada produto."
   ]
  },
  {
   "cell_type": "markdown",
   "id": "220e777cb67078ef",
   "metadata": {},
   "source": [
    "### Segunda versão da previsão de vendas\n"
   ]
  },
  {
   "cell_type": "markdown",
   "id": "fed0a44f64e893c7",
   "metadata": {},
   "source": [
    "Mantenha a mesma funcionalidade do programa anterior, mas agora valide a entrada do usuário.\n",
    "Se o usuário digitar um valor inválido para vendas ou taxa de crescimento, mostre a mensagem\n",
    "\"Entrada inválida. Por favor, digite um número para vendas e taxa de crescimento.\" e peça\n",
    "para o usuário digitar novamente. Tal validação deve ser feita usando try/except.\n"
   ]
  },
  {
   "cell_type": "code",
   "execution_count": 22,
   "id": "2f5b03266aa76ac1",
   "metadata": {
    "collapsed": false,
    "jupyter": {
     "outputs_hidden": false
    },
    "tags": []
   },
   "outputs": [
    {
     "name": "stdout",
     "output_type": "stream",
     "text": [
      "Entrada inválida. Por favor, digite um número para vendas e taxa de crescimento.\n",
      "iphone : Previsão de vendas p/ Proximo mês:  12100.0\n",
      "ipad : Previsão de vendas p/ Proximo mês:  23000.0\n"
     ]
    }
   ],
   "source": [
    "# solução\n",
    "\n",
    "provisoes_vendas = {}\n",
    "\n",
    "\n",
    "item = input(\"Digite o nome do produto(ou digite 'sair'' para sair): \")\n",
    "\n",
    "while 'sair' not in item:\n",
    "    try:\n",
    "        vendas = int(input('Digite as vendas do mês atual: '))\n",
    "        taxa = int(input('Digite a taxa de crescimento(%): '))\n",
    "        provisoes_vendas[item] = (vendas,taxa,vendas*(1+(taxa/100)))\n",
    "    except:\n",
    "        ValueError(print('Entrada inválida. Por favor, digite um número para vendas e taxa de crescimento.'))\n",
    "    item = input(\"Digite o nome do produto(ou digite 'sair'' para sair): \")\n",
    "\n",
    "for item in provisoes_vendas:\n",
    "    print(item,\": Previsão de vendas p/ Proximo mês: \",provisoes_vendas[item][2])"
   ]
  },
  {
   "cell_type": "markdown",
   "id": "d861ab7ae8fb3309",
   "metadata": {},
   "source": [
    "## Relatório de vendas"
   ]
  },
  {
   "cell_type": "markdown",
   "id": "fee0c84ea4dcc146",
   "metadata": {},
   "source": [
    "### Primeira versão do relatório de vendas"
   ]
  },
  {
   "cell_type": "markdown",
   "id": "2f97dd1b949ee274",
   "metadata": {},
   "source": [
    "Escreva um programa que calcula o total e a média de vendas para cada vendedor em uma empresa.\n",
    "O usuário deve digitar o nome do vendedor e suas vendas, e o programa deve manter o controle\n",
    "do total e da média de vendas para cada vendedor.\n",
    "\n",
    "Estruture seu programa da seguinte forma:\n",
    "\n",
    "1. Crie um dicionário vazio para armazenar os dados de vendas.\n",
    "2. Crie um loop infinito que solicite ao usuário o nome do vendedor e suas vendas.\n",
    "3. Dentro do loop, use uma declaração if para verificar se o usuário digitou 'sair'.\n",
    "4. Se o usuário digitar 'sair', encerre o loop usando break.\n",
    "5. Se o usuário digitar qualquer outra coisa, use as entradas para calcular o total e a média de vendas para o vendedor e adicione-os ao dicionário.\n",
    "6. Depois que o loop for encerrado, use um loop for para iterar sobre o dicionário e mostrar o total e a média de vendas para cada vendedor.\n",
    "\n",
    "Exemplo de saída:\n",
    "    \n",
    "```\n",
    "Digite o nome do vendedor (ou 'sair' para sair): João\n",
    "Digite as vendas: 100\n",
    "Digite o nome do vendedor (ou 'sair' para sair): Maria\n",
    "Digite as vendas: 200\n",
    "Digite o nome do vendedor (ou 'sair' para sair): João\n",
    "Digite as vendas: 300\n",
    "Digite o nome do vendedor (ou 'sair' para sair): sair\n",
    "João: Total de vendas = R$ 400.0, Média de vendas = R$ 200.0\n",
    "Maria: Total de vendas = R$ 200.0, Média de vendas = R$ 200.0\n",
    "```\n",
    "\n",
    "Dica: use o método sum() para calcular o total de vendas e o método len() para calcular o número de vendas.\n"
   ]
  },
  {
   "cell_type": "code",
   "execution_count": 40,
   "id": "850a34dfad3b326a",
   "metadata": {
    "collapsed": false,
    "jupyter": {
     "outputs_hidden": false
    },
    "tags": []
   },
   "outputs": [
    {
     "name": "stdout",
     "output_type": "stream",
     "text": [
      "joao : Total de vendas  =  400 Média de vendas= R$200.00\n",
      "maria : Total de vendas  =  200 Média de vendas= R$200.00\n"
     ]
    }
   ],
   "source": [
    "# solução\n",
    "\n",
    "qtd_vendas = 0\n",
    "soma_vendas = 0\n",
    "vendas = {}\n",
    "vendedor = input(\"Digite o nome do vendedor (ou 'sair' para sair): \")\n",
    "\n",
    "while 'sair' not in vendedor:\n",
    "    if vendedor in vendas:\n",
    "        digite_vendas = int(input(\"Digite as vendas: \"))\n",
    "        qtd_vendas = vendas[vendedor][0]+1\n",
    "        soma_vendas = vendas[vendedor][1]+digite_vendas\n",
    "        vendas[vendedor] = (qtd_vendas,soma_vendas)\n",
    "    else:       \n",
    "        digite_vendas = int(input(\"Digite as vendas: \"))\n",
    "        vendas[vendedor] = (1,digite_vendas)\n",
    "    vendedor = input(\"Digite o nome do vendedor (ou 'sair' para sair): \")\n",
    "\n",
    "for item in vendas:\n",
    "    print(item,\": Total de vendas  = \",vendas[item][1], \"Média de vendas= R${:.2f}\".format(vendas[item][1]/vendas[item][0]))\n",
    "\n",
    "\n"
   ]
  },
  {
   "cell_type": "markdown",
   "id": "df0b488f9bf63f0f",
   "metadata": {},
   "source": [
    "### Segunda versão do relatório de vendas\n"
   ]
  },
  {
   "cell_type": "markdown",
   "id": "f6f7d690536b31ad",
   "metadata": {},
   "source": [
    "Mantenha a mesma funcionalidade do programa anterior, mas agora valide a entrada do usuário.\n",
    "Se o usuário digitar um valor inválido para vendas, mostre a mensagem\n",
    "\"Entrada inválida. Por favor, digite um número para vendas.\" e peça para o usuário digitar\n",
    "novamente. Tal validação deve ser feita usando try/except.\n",
    "\n",
    "Além disso, ao invés de armazenar cada venda em uma lista para cada vendedor, armazene\n",
    "o total de vendas e a quantidade de vendas em um dicionário. Por exemplo, se o usuário\n",
    "digitar \"João\" e \"1000\" para vendas, o dicionário deve ficar assim:\n",
    "\n",
    "```python\n",
    "{'João': {'total_vendas': 1000, 'quantidade_vendas': 1}}\n",
    "```\n",
    "\n",
    "Se, após, o usuário digitar \"João\" e \"2000\" para vendas, o dicionário deve ficar assim:\n",
    "\n",
    "```python\n",
    "{'João': {'total_vendas': 3000, 'quantidade_vendas': 2}}\n",
    "```\n",
    "\n",
    "Perceba como o total de vendas de João aumentou em 2000, assim como a quantidade aumentou em uma unidade.\n",
    "\n",
    "Ao final, mostre o total de vendas e a média de vendas de cada vendedor.\n",
    "\n",
    "Exemplo de saída:\n",
    "\n",
    "```\n",
    "Digite o nome do vendedor (ou 'sair' para sair): João\n",
    "Digite as vendas: 1000\n",
    "Digite o nome do vendedor (ou 'sair' para sair): Maria\n",
    "Digite as vendas: 2000\n",
    "Digite o nome do vendedor (ou 'sair' para sair): João\n",
    "Digite as vendas: 2000\n",
    "Digite o nome do vendedor (ou 'sair' para sair): Maria\n",
    "Digite as vendas: 3000\n",
    "Digite o nome do vendedor (ou 'sair' para sair): sair\n",
    "João: Total de vendas = R$ 3000.00, Média de vendas = R$ 1500.00\n",
    "Maria: Total de vendas = R$ 5000.00, Média de vendas = R$ 2500.00\n",
    "```\n"
   ]
  },
  {
   "cell_type": "code",
   "execution_count": 42,
   "id": "acf9f8d385d8c261",
   "metadata": {
    "collapsed": false,
    "jupyter": {
     "outputs_hidden": false
    },
    "tags": []
   },
   "outputs": [
    {
     "name": "stdout",
     "output_type": "stream",
     "text": [
      "joao : Total de vendas  =  3000 Média de vendas= R$1500.00\n",
      "maria : Total de vendas  =  5000 Média de vendas= R$2500.00\n"
     ]
    }
   ],
   "source": [
    "# solução\n",
    "\n",
    "soma_vendas = 0\n",
    "vendas = {}\n",
    "vendedor = input(\"Digite o nome do vendedor (ou 'sair' para sair): \")\n",
    "\n",
    "while 'sair' not in vendedor:\n",
    "    if vendedor in vendas:\n",
    "        try:\n",
    "            digite_vendas = int(input(\"Digite as vendas: \"))\n",
    "            qtd_vendas = vendas[vendedor][0]+1\n",
    "            soma_vendas = vendas[vendedor][1]+digite_vendas\n",
    "            vendas[vendedor] = (qtd_vendas,soma_vendas)\n",
    "        except:\n",
    "            ValueError(print('Digite valores númericos para o núemro de vendas'))\n",
    "    else:       \n",
    "        digite_vendas = int(input(\"Digite as vendas: \"))\n",
    "        vendas[vendedor] = (1,digite_vendas)\n",
    "    vendedor = input(\"Digite o nome do vendedor (ou 'sair' para sair): \")\n",
    "\n",
    "for item in vendas:\n",
    "    print(item,\": Total de vendas  = \",vendas[item][1], \"Média de vendas= R${:.2f}\".format(vendas[item][1]/vendas[item][0]))"
   ]
  },
  {
   "cell_type": "markdown",
   "id": "6d4ed09b42dbfd0f",
   "metadata": {},
   "source": [
    "### Terceira versão do relatório de vendas"
   ]
  },
  {
   "cell_type": "markdown",
   "id": "172639eaf7b59b37",
   "metadata": {},
   "source": [
    " Mantenha a funcionalidade do programa, mas agora use funções para organizar o código. Crie funções para cada uma das operações: `solicitar_nome_vendedor`, `solicitar_vendas` e `atualizar_dados` e `print_dados`. O programa deve continuar funcionando da mesma forma, mas agora o código deve estar organizado em funções."
   ]
  },
  {
   "cell_type": "code",
   "execution_count": 48,
   "id": "2d9d97268c20cefd",
   "metadata": {
    "collapsed": false,
    "jupyter": {
     "outputs_hidden": false
    },
    "tags": []
   },
   "outputs": [
    {
     "name": "stdout",
     "output_type": "stream",
     "text": [
      "joao : Total de vendas  =  3000 Média de vendas= R$1500.00\n",
      "maria : Total de vendas  =  5000 Média de vendas= R$2500.00\n"
     ]
    }
   ],
   "source": [
    "# solução\n",
    "\n",
    "soma_vendas = 0\n",
    "lista_vendas = {}\n",
    "\n",
    "def solicita_vendedor():\n",
    "    vendedor = input(\"Digite o nome do vendedor (ou 'sair' para sair): \")\n",
    "    return vendedor\n",
    "\n",
    "def solicita_vendas():\n",
    "    digite_vendas = int(input(\"Digite as vendas: \"))\n",
    "    return digite_vendas\n",
    "\n",
    "def atualiza_dados(vendedor,ttvendas,lista_vendas):\n",
    "    if vendedor in lista_vendas:\n",
    "        try:\n",
    "            qtd_vendas = lista_vendas[vendedor][0]+1\n",
    "            soma_vendas = lista_vendas[vendedor][1]+ttvendas\n",
    "            lista_vendas[vendedor] = (qtd_vendas,soma_vendas)\n",
    "        except:\n",
    "            ValueError(print('Digite valores númericos para o núemro de vendas'))\n",
    "    else:       \n",
    "        lista_vendas[vendedor] = (1,ttvendas)\n",
    "\n",
    "def print_dados(vendas):\n",
    "    for item in vendas:\n",
    "        print(item,\": Total de vendas  = \",vendas[item][1], \"Média de vendas= R${:.2f}\".format(vendas[item][1]/vendas[item][0]))\n",
    "\n",
    "vendedor = solicita_vendedor()\n",
    "\n",
    "while 'sair' not in vendedor:\n",
    "    vendas = solicita_vendas()\n",
    "    atualiza_dados(vendedor,vendas,lista_vendas)\n",
    "    vendedor = solicita_vendedor()\n",
    "print_dados(lista_vendas)\n"
   ]
  },
  {
   "cell_type": "code",
   "execution_count": null,
   "id": "7aadc1a4",
   "metadata": {},
   "outputs": [],
   "source": []
  },
  {
   "cell_type": "markdown",
   "id": "62a19809a576b0f1",
   "metadata": {},
   "source": [
    "## Segmentação de clientes"
   ]
  },
  {
   "cell_type": "markdown",
   "id": "e442eb294aafb0b3",
   "metadata": {},
   "source": [
    "### Primeira versão da segmentação de clientes"
   ]
  },
  {
   "cell_type": "markdown",
   "id": "802af9ecdfa16fae",
   "metadata": {},
   "source": [
    "Escreva um programa que segmenta clientes com base em suas compras totais.\n",
    "O usuário deve digitar o nome do cliente e suas compras totais, e o programa\n",
    "deve atribuir cada cliente a um segmento: 'Bronze' para compras de até R\\\\$ 1000,\n",
    "'Prata' para compras de até R\\\\$ 5000 e 'Ouro' para compras acima de R\\\\$ 5000.\n",
    "\n",
    "Estruture seu programa da seguinte forma:\n",
    "\n",
    "1. Crie um dicionário vazio para armazenar os clientes e seus segmentos.\n",
    "2. Crie um loop infinito que solicite ao usuário o nome do cliente e suas compras totais.\n",
    "3. Dentro do loop, use uma declaração if para atribuir o segmento apropriado ao cliente.\n",
    "4. Se o usuário digitar 'sair' para o nome do cliente, encerre o loop usando break.\n",
    "5. Fora do loop, use um loop for para imprimir o nome e o segmento de cada cliente.\n",
    "\n",
    "Exemplo de saída:\n",
    "    \n",
    "```\n",
    "Digite o nome do cliente (ou 'sair' para sair): João\n",
    "Digite o total de compras: 100\n",
    "Digite o nome do cliente (ou 'sair' para sair): Maria\n",
    "Digite o total de compras: 2000\n",
    "Digite o nome do cliente (ou 'sair' para sair): José\n",
    "Digite o total de compras: 6000\n",
    "Digite o nome do cliente (ou 'sair' para sair): sair\n",
    "João: Segmento do Cliente = Bronze\n",
    "Maria: Segmento do Cliente = Prata\n",
    "José: Segmento do Cliente = Ouro\n",
    "```\n"
   ]
  },
  {
   "cell_type": "code",
   "execution_count": 63,
   "id": "4db19cd98e8be766",
   "metadata": {
    "collapsed": false,
    "jupyter": {
     "outputs_hidden": false
    },
    "tags": []
   },
   "outputs": [
    {
     "name": "stdout",
     "output_type": "stream",
     "text": [
      "Digite apenas números\n",
      "Digite apenas números\n",
      "joao 2000 : Segmento do cliente = Prata\n",
      "pedro 10000 : Segmento do cliente = Ouro\n"
     ]
    }
   ],
   "source": [
    "# solução\n",
    " \n",
    "lista_clientes = {}\n",
    "\n",
    "def coleta_nome():\n",
    "    nome = input('Digite o nome do cliente (ou sair para sair): ')\n",
    "    return nome\n",
    "\n",
    "def coleta_compra():\n",
    "    tt_venda = 0\n",
    "    try:\n",
    "        tt_venda = int(input('Digite o total da venda:'))\n",
    "    except:\n",
    "        ValueError(print('Digite apenas números'))\n",
    "    return tt_venda\n",
    "\n",
    "def adiciona_venda(nome,vendas,lista):\n",
    "    if nome in lista:\n",
    "        qtd_vendas = lista[nome][1]+1\n",
    "        tt_vendas = lista[nome][0]+vendas\n",
    "    else:\n",
    "        tt_vendas = vendas\n",
    "        qtd_vendas = 1\n",
    "    if tt_vendas <= 1000:\n",
    "        categoria = 'Bronze'\n",
    "    elif tt_vendas <= 5000:\n",
    "        categoria = 'Prata'\n",
    "    else:\n",
    "        categoria = 'Ouro'\n",
    "    lista[nome] = (tt_vendas,qtd_vendas,categoria)\n",
    "\n",
    "\n",
    "def mostra_segmentacao(lista):\n",
    "    for item in lista:\n",
    "        print(item,lista[item][0] ,': Segmento do cliente =',lista[item][2])\n",
    "\n",
    "nome = coleta_nome()\n",
    "\n",
    "while 'sair' not in nome:\n",
    "    vendas = coleta_compra()\n",
    "    adiciona_venda(nome,vendas,lista_clientes)\n",
    "    nome = coleta_nome()\n",
    "\n",
    "mostra_segmentacao(lista_clientes)\n"
   ]
  },
  {
   "cell_type": "markdown",
   "id": "7479c6559d242c1f",
   "metadata": {},
   "source": [
    "### Segunda versão da segmentação de clientes\n"
   ]
  },
  {
   "cell_type": "markdown",
   "id": "8a1f0c9716cd55f5",
   "metadata": {},
   "source": [
    "\n",
    "Mantenha a mesma funcionalidade do programa anterior, mas agora valide a entrada do usuário.\n",
    "Se o usuário digitar um valor inválido para compras, mostre a mensagem\n",
    "\"Entrada inválida. Por favor, digite um número para compras.\" e peça para o usuário digitar\n",
    "novamente. Tal validação deve ser feita usando try/except.\n",
    "\n",
    "Além disso, ao invés de deixar os limites de compras fixos no programa, armazene-os em uma\n",
    "lista de tuplas. Por exemplo:\n",
    "\n",
    "```python\n",
    "segmentos = [(1000, 'Bronze'), (5000, 'Prata'), (float('inf'), 'Ouro')]\n",
    "``` \n",
    "\n",
    "Assim, outros segmentos podem ser adicionados facilmente. O primeiro elemento da tupla é o\n",
    "limite de compras e o segundo é o nome do segmento. O último elemento da lista é uma tupla\n",
    "com limite `float('inf')`, que representa o segmento Ouro. Isso significa que, se o valor de\n",
    "compras for maior que todos os limites, o segmento será Ouro.\n",
    "\n",
    "Depois, percorra essa lista e, para cada tupla, verifique se o valor de compras é menor ou igual\n",
    "ao limite. Se for, armazene o segmento em um dicionário. Por exemplo, se o usuário digitar\n",
    "\"João\" e \"500\" para compras, o dicionário deve ficar assim:\n",
    "`{'João': 'Bronze'}`\n"
   ]
  },
  {
   "cell_type": "code",
   "execution_count": 77,
   "id": "d558bd18",
   "metadata": {},
   "outputs": [
    {
     "name": "stdout",
     "output_type": "stream",
     "text": [
      "1000\n"
     ]
    }
   ],
   "source": [
    "segmentos = [(1000, 'Bronze'), (5000, 'Prata'), (float('inf'), 'Ouro')]\n",
    "print(segmentos[0][0])"
   ]
  },
  {
   "cell_type": "code",
   "execution_count": 79,
   "id": "d6b28cbd519b19db",
   "metadata": {
    "collapsed": false,
    "jupyter": {
     "outputs_hidden": false
    },
    "tags": []
   },
   "outputs": [
    {
     "name": "stdout",
     "output_type": "stream",
     "text": [
      "pedro 3000 : Segmento do cliente = Prata\n"
     ]
    }
   ],
   "source": [
    "# solução\n",
    " \n",
    "\n",
    "\n",
    "\n",
    "lista_clientes = {}\n",
    "\n",
    "def coleta_nome():\n",
    "    nome = input('Digite o nome do cliente (ou sair para sair): ')\n",
    "    return nome\n",
    "\n",
    "def coleta_compra():\n",
    "    tt_venda = 0\n",
    "    try:\n",
    "        tt_venda = int(input('Digite o total da venda:'))\n",
    "    except:\n",
    "        ValueError(print('Digite apenas números'))\n",
    "    return tt_venda\n",
    "\n",
    "def adiciona_venda(nome,vendas,lista):\n",
    "    segmentos = [(1000, 'Bronze'), (5000, 'Prata'), (float('inf'), 'Ouro')]\n",
    "    segmentos.sort(reverse=False)\n",
    "\n",
    "    if nome in lista:\n",
    "        qtd_vendas = lista[nome][1]+1\n",
    "        tt_vendas = lista[nome][0]+vendas\n",
    "    else:\n",
    "        tt_vendas = vendas\n",
    "        qtd_vendas = 1\n",
    "    if tt_vendas <=  segmentos[0][0]:\n",
    "        categoria = 'Bronze'\n",
    "    elif tt_vendas <= segmentos[1][0]:\n",
    "        categoria = 'Prata'\n",
    "    else:\n",
    "        categoria = 'Ouro'\n",
    "    lista[nome] = (tt_vendas,qtd_vendas,categoria)\n",
    "\n",
    "\n",
    "def mostra_segmentacao(lista):\n",
    "    for item in lista:\n",
    "        print(item,lista[item][0] ,': Segmento do cliente =',lista[item][2])\n",
    "\n",
    "nome = coleta_nome()\n",
    "#def main():\n",
    "while 'sair' not in nome:\n",
    "    vendas = coleta_compra()\n",
    "    adiciona_venda(nome,vendas,lista_clientes)\n",
    "    nome = coleta_nome()\n",
    "\n",
    "mostra_segmentacao(lista_clientes)\n",
    "\n"
   ]
  },
  {
   "cell_type": "markdown",
   "id": "e0b43f24e484cff6",
   "metadata": {},
   "source": [
    "### Terceira versão da segmentação de clientes"
   ]
  },
  {
   "cell_type": "markdown",
   "id": "540a003667a58fe3",
   "metadata": {},
   "source": [
    "Mantenha a funcionalidade do programa, mas agora use funções para organizar o código. Crie funções para cada uma das operações: `solicitar_nome_cliente`, `solicitar_total_compras` e `atribuir_segmento` e `print_segmento_por_cliente`. O programa deve continuar funcionando da mesma forma, mas agora o código deve estar organizado em funções. Além disso, normalize que todos os nomes sejam armazenados em letras minúsculas."
   ]
  },
  {
   "cell_type": "code",
   "execution_count": null,
   "id": "3e2ae1f61a34ac14",
   "metadata": {
    "collapsed": false,
    "jupyter": {
     "outputs_hidden": false
    },
    "tags": []
   },
   "outputs": [],
   "source": [
    "# solução\n"
   ]
  },
  {
   "cell_type": "markdown",
   "id": "2782ae42b0883ca",
   "metadata": {},
   "source": [
    "## Analisador de texto"
   ]
  },
  {
   "cell_type": "markdown",
   "id": "b854b1f160300285",
   "metadata": {},
   "source": [
    "Crie um programa que analise um texto fornecido pelo usuário.\n",
    "O programa deve contar o número de palavras (independentemente se há repetição ou não),\n",
    "a quantidade de cada palavra e a\n",
    "quantidade de cada letra. Ignore maiúsculas e minúsculas ao contar letras.\n",
    "Não se preocupe com pontuação e espaços ao contar palavras.\n",
    "\n",
    "O programa deve conter uma função chamada `analisar_texto` que recebe o texto\n",
    "como parâmetro e retorna a contagem de palavras, a frequência de palavras e a\n",
    "frequência de letras.\n",
    "\n",
    "Para o texto \"Olá mundo! Este é um teste. Olá novamente.\" o programa deve\n",
    "imprimir:\n",
    "    \n",
    "```\n",
    "Contagem de palavras: 8\n",
    "Frequência de palavras: {'Olá': 2, 'mundo!': 1, 'Este': 1, 'é': 1, 'um': 1, 'teste.': 1, 'novamente.': 1}\n",
    "Frequência de letras: {'o': 4, 'l': 2, 'á': 2, 'm': 3, 'u': 2, 'n': 3, 'd': 1, '!': 1, 'e': 6, 's': 2, 't': 4, 'é': 1, '.': 2, 'v': 1, 'a': 1}\n",
    "```\n",
    "\n",
    "**Observação**: Mais adiante no curso, aprenderemos a lidar com a pontuação."
   ]
  },
  {
   "cell_type": "code",
   "execution_count": null,
   "id": "6187a6a77f5a2f4a",
   "metadata": {
    "collapsed": false,
    "jupyter": {
     "outputs_hidden": false
    },
    "tags": []
   },
   "outputs": [],
   "source": [
    "# solução\n",
    "def analisar_texto(texto):\n",
    "    palavras = texto.split()\n",
    "    contagem_palavras = len(palavras)\n",
    "    frequencia = \n"
   ]
  }
 ],
 "metadata": {
  "kernelspec": {
   "display_name": "Python 3 (ipykernel)",
   "language": "python",
   "name": "python3"
  },
  "language_info": {
   "codemirror_mode": {
    "name": "ipython",
    "version": 3
   },
   "file_extension": ".py",
   "mimetype": "text/x-python",
   "name": "python",
   "nbconvert_exporter": "python",
   "pygments_lexer": "ipython3",
   "version": "3.12.1"
  }
 },
 "nbformat": 4,
 "nbformat_minor": 5
}
