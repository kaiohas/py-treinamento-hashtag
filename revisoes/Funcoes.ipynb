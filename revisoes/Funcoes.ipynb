{
 "cells": [
  {
   "cell_type": "markdown",
   "id": "a2fee89b",
   "metadata": {},
   "source": [
    "### Forma de pensar"
   ]
  },
  {
   "cell_type": "code",
   "execution_count": null,
   "id": "1be9db7d",
   "metadata": {},
   "outputs": [],
   "source": [
    "# Top -> Down\n",
    "\n",
    "# Exemplo simples: atravessar a rua"
   ]
  },
  {
   "cell_type": "markdown",
   "id": "672e10e0",
   "metadata": {},
   "source": [
    "### Exemplo de Exercício do Curso"
   ]
  },
  {
   "cell_type": "markdown",
   "id": "fee80189",
   "metadata": {},
   "source": [
    "#### 23. Faça um Programa para uma loja de tintas. O programa deverá pedir o tamanho em metros quadrados da área a ser pintada. Considere que a cobertura da tinta é de 1 litro para cada 6 metros quadrados e que a tinta é vendida em latas de 18 litros, que custam R\\\\$ 80,00 ou em galões de 3,6 litros, que custam R\\\\$ 25,00."
   ]
  },
  {
   "cell_type": "code",
   "execution_count": 3,
   "id": "4499bb83",
   "metadata": {},
   "outputs": [
    {
     "name": "stdout",
     "output_type": "stream",
     "text": [
      "Latas 3\n",
      "Custo 240\n"
     ]
    }
   ],
   "source": [
    "# Descobrir quantas latas de tinta e qual a area a ser pitanda\n",
    "    #Descobrir quantas latas de tinta\n",
    "        #Descobrir qual a area a ser pintada\n",
    "area = int(input('Qual a area'))\n",
    "        #Quantos litros de tinta vou precisar\n",
    "litros = area/6\n",
    "        #Quantas latas preciso pra chegar na quantidade\n",
    "latas = litros / 18\n",
    "        #Se a parte inteira é menor que a quantidade de latas, eu preciso de +1 lata\n",
    "if latas > int(latas):\n",
    "    latas = int(latas)+1 \n",
    "    #Calcular custo das latas\n",
    "        #Quantidade de latas * preço lata\n",
    "custo = latas * 80\n",
    "\n",
    "print('Latas',latas)\n",
    "print('Custo',custo)"
   ]
  },
  {
   "cell_type": "code",
   "execution_count": 11,
   "id": "204190b5",
   "metadata": {},
   "outputs": [
    {
     "name": "stdout",
     "output_type": "stream",
     "text": [
      "latas 5\n",
      "custos 400\n"
     ]
    }
   ],
   "source": [
    "def area_ser_pintada():\n",
    "    area = int(input('Qual a area'))\n",
    "    return area\n",
    "\n",
    "def calcular_litros(area):\n",
    "    litros = area/6\n",
    "    return litros\n",
    "\n",
    "def calcular_latas(litros):\n",
    "    latas = litros / 18\n",
    "    if latas > int(latas):\n",
    "        latas = int(latas)+1 \n",
    "    return latas\n",
    "\n",
    "def calcular_custo(latas):\n",
    "    custo = latas * 80\n",
    "    return custo\n",
    "\n",
    "area = area_ser_pintada()\n",
    "litros = calcular_litros(area)\n",
    "latas = calcular_latas(litros)\n",
    "custo = calcular_custo(latas)\n",
    "\n",
    "print('latas',latas)\n",
    "print('custos',custo)"
   ]
  },
  {
   "cell_type": "markdown",
   "id": "0d5fa10a",
   "metadata": {},
   "source": [
    "##### Informe ao usuário as quantidades de tinta a serem compradas e os respectivos preços em 3 situações.\n",
    "\n",
    "Dica: lembre dos operadores // e % mostrados em exercícios anteriores<br>\n",
    "Dica1: numero // 10 vai te dar como resposta a parte inteira da divisão do número por 10. Ex: 7 // 3 = 2; 10 // 3 = 3<br> \n",
    "Dica2: numero % 10 vai te dar o resto da divisão do número por 10. Ex: 7 % 3 = 1; 10 % 3 = 1; 15 % 3 = 0\n",
    "\n",
    "##### 1. Comprar apenas latas de 18 litros: (apenas latas inteiras)"
   ]
  },
  {
   "cell_type": "code",
   "execution_count": null,
   "id": "bc38cdcd",
   "metadata": {},
   "outputs": [],
   "source": [
    "def area_ser_pintada():\n",
    "    area = int(input('Qual a area'))\n",
    "    return area\n",
    "\n",
    "def calcular_litros(area):\n",
    "    litros = area/6\n",
    "    return litros\n",
    "\n",
    "def calcular_latas(litros):\n",
    "    latas = litros / 18\n",
    "    if latas > int(latas):\n",
    "        latas = int(latas)+1 \n",
    "    return latas\n",
    "\n",
    "def calcular_custo(latas):\n",
    "    custo = latas * 80\n",
    "    return custo\n",
    "\n",
    "area = area_ser_pintada()\n",
    "litros = calcular_litros(area)\n",
    "latas = calcular_latas(litros)\n",
    "custo = calcular_custo(latas)\n",
    "\n",
    "print('latas',latas)\n",
    "print('custos',custo)"
   ]
  },
  {
   "cell_type": "markdown",
   "id": "15dc7322",
   "metadata": {},
   "source": [
    "##### 2. Comprar apenas galões de 3,6 litros: (apenas galoes inteiros)"
   ]
  },
  {
   "cell_type": "code",
   "execution_count": 14,
   "id": "6e0a01af",
   "metadata": {},
   "outputs": [
    {
     "name": "stdout",
     "output_type": "stream",
     "text": [
      "R$75\n",
      "latas 3\n",
      "custos None\n"
     ]
    }
   ],
   "source": [
    "def area_ser_pintada():\n",
    "    area = int(input('Qual a area'))\n",
    "    return area\n",
    "\n",
    "def calcular_litros(area):\n",
    "    litros = area/6\n",
    "    return litros\n",
    "\n",
    "def calcular_latas(litros):\n",
    "    latas = litros / 3.6\n",
    "    if latas > int(latas):\n",
    "        latas = int(latas)+1 \n",
    "    return latas\n",
    "\n",
    "def calcular_custo(latas):\n",
    "    custo = latas * 25\n",
    "    return custo\n",
    "\n",
    "area = area_ser_pintada()\n",
    "litros = calcular_litros(area)\n",
    "latas = calcular_latas(litros)\n",
    "custo = calcular_custo(latas)\n",
    "\n",
    "print('latas',latas)\n",
    "print('custos',custo)"
   ]
  },
  {
   "cell_type": "markdown",
   "id": "35e0aa11",
   "metadata": {},
   "source": [
    "##### 3. Misturar latas e galões, de forma que o desperdício de tinta seja menor. Sempre arredonde os valores para cima, isto é, considere latas cheias."
   ]
  },
  {
   "cell_type": "markdown",
   "id": "95a3d342",
   "metadata": {},
   "source": [
    "O custo da lata é 80/18 = 4,44 R\\\\$/L\n",
    "\n",
    "O custo do galão é 25/3,6 = 6,94 R\\\\$/L\n",
    "\n",
    "A lata é mais econômica, então todas as latas inteiras que pudermos usar devemos comprar em latas. Se ficar faltando alguma coisa para completar devemos avaliar se é melhor comprar latas ou galões. Exemplo:\n",
    "\n",
    "Se queremos comprar 90 litros. 5 latas dão exatamente 90 litros. Então devemos comprar tudo em latas.\n",
    "\n",
    "Se queremos comprar 95 litros. 5 latas dão exatamente 90 litros. Então devemos comprar pelo menos 5 latas e avaliar o que falta, se estes últimos 5 litros valem mais apenas em latas ou galões.\n",
    "\n",
    "Para os 5 litros faltantes precisamos de 2 galões que custam 50 reais no total. Ou de uma lata que custa 80 reais no total. Portanto, neste caso vale mais a pena usar 2 galões.\n",
    "\n",
    "Se queremos comprar 107 litros. 5 latas dão exatamente 90 litros. Então devemos comprar pelo menos 5 latas e avaliar o que falta, se estes últimos 5 litros valem mais apenas em latas ou galões.\n",
    "\n",
    "Para os 17 litros faltantes precisamos de 5 galões que custam 125 reais no total. Ou de uma lata que custa 80 reais no total. Portanto, neste caso vale mais a pena usar uma lata.\n",
    "\n",
    "3 galões custam 75 reais, 4 galões custam 100 reais. Então, se for possível completar com até 3 galões escolhe-se galões. Qualquer quantidade maior que 3 galões, usa-se latas.\n",
    "\n",
    "Podemos ir ao exercício:"
   ]
  },
  {
   "cell_type": "code",
   "execution_count": 33,
   "id": "0e9847d9",
   "metadata": {},
   "outputs": [],
   "source": [
    "#Pegar area a ser pintada\n",
    "def area_a_ser_pintada():\n",
    "    area = int(input('Qual a area'))\n",
    "    return area \n",
    "\n",
    "#Pegar quantidade de litros necessários\n",
    "def calcula_litros_tinta(area):\n",
    "    litros = area/6\n",
    "    return litros\n",
    "\n",
    "\n",
    "\n",
    "'''\n",
    "def litros_faltantes(litros):\n",
    "    litros_faltantes = litros % \n",
    "\n",
    "'''\n",
    "\n",
    "\n",
    "#calcular quantas latas e quantos galoes eu vou precisar\n",
    "    #calcula quantas latas inteiras (talvez: passando sempre uma lata a +)\n",
    "    #Talvez: Calcular a diferença do objetivo pelo alcançado, se for menor que 3.6, considerar o resultado em latas.\n",
    "    #Talvez: Se não, pegar essa diferença a mais, e dividir por 3.6 +1.\n",
    "    #Calcular quantos litros ainda faltam comprar\n",
    "    #Calcular quanto custa preencher esses litros com galão\n",
    "    #Calcular quanto custa preencher esses litros com latas.\n",
    "    #Escolher o mais barato.\n",
    "\n",
    "def calcular_qtd_latas_galoes(litros):\n",
    "    latas_inteiras = int(litros/18)\n",
    "    litros_faltam = (litros%18)\n",
    "    #Se for preencher com latas\n",
    "    custo_extra_latas = 1 * 80\n",
    "    #Se for preencher com galoes\n",
    "    galoes = litros_faltam / 3.6\n",
    "    if galoes > int(galoes):\n",
    "        galoes = int(galoes)+1\n",
    "    custo_extra_galoes = galoes * 25\n",
    "    if custo_extra_latas < custo_extra_galoes:\n",
    "        latas = latas_inteiras+1\n",
    "        galoes = 0\n",
    "    else:\n",
    "        latas = latas_inteiras\n",
    "    return latas,galoes\n",
    "\n",
    "\n",
    "\n",
    "#Calcular custo total.\n",
    "def calcular_custo(latas,galoes):\n",
    "    custo_latas = latas*80\n",
    "    custo_galoes= galoes*25\n",
    "    custo = custo_latas + custo_galoes\n",
    "    return custo"
   ]
  },
  {
   "cell_type": "code",
   "execution_count": 35,
   "id": "4e4b363c",
   "metadata": {},
   "outputs": [
    {
     "name": "stdout",
     "output_type": "stream",
     "text": [
      "Litros 262.5\n",
      "Latas 14\n",
      "Galoes 3\n",
      "Custo 1195\n"
     ]
    }
   ],
   "source": [
    "area = area_a_ser_pintada()\n",
    "litros = calcula_litros_tinta(area)\n",
    "latas,galoes = calcular_qtd_latas_galoes(litros)\n",
    "\n",
    "custo = calcular_custo(latas,galoes)\n",
    "\n",
    "\n",
    "print('Litros',litros)\n",
    "print('Latas',latas)\n",
    "print('Galoes',galoes)\n",
    "print('Custo',custo)"
   ]
  },
  {
   "cell_type": "code",
   "execution_count": 27,
   "id": "969ddf91",
   "metadata": {},
   "outputs": [
    {
     "data": {
      "text/plain": [
       "7"
      ]
     },
     "execution_count": 27,
     "metadata": {},
     "output_type": "execute_result"
    }
   ],
   "source": [
    "23%8\n"
   ]
  },
  {
   "cell_type": "code",
   "execution_count": null,
   "id": "13a2d3c6",
   "metadata": {},
   "outputs": [],
   "source": []
  }
 ],
 "metadata": {
  "kernelspec": {
   "display_name": "Python 3 (ipykernel)",
   "language": "python",
   "name": "python3"
  },
  "language_info": {
   "codemirror_mode": {
    "name": "ipython",
    "version": 3
   },
   "file_extension": ".py",
   "mimetype": "text/x-python",
   "name": "python",
   "nbconvert_exporter": "python",
   "pygments_lexer": "ipython3",
   "version": "3.12.1"
  }
 },
 "nbformat": 4,
 "nbformat_minor": 5
}
